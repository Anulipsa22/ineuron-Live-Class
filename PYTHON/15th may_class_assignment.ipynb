{
 "cells": [
  {
   "cell_type": "markdown",
   "id": "de354cdb",
   "metadata": {},
   "source": [
    "## 15th may task"
   ]
  },
  {
   "cell_type": "code",
   "execution_count": null,
   "id": "8f51e2e6",
   "metadata": {},
   "outputs": [],
   "source": [
    "\n",
    "s = \"this is My First Python programming class and i am learNING python string and its function\"\n",
    "1 . Try to extract data from index one to index 300 with a jump of 3 \n",
    "2. Try to reverse a string without using reverse function \n",
    "3. Try to split a string after conversion of entire string in uppercase \n",
    "4. try to convert the whole string into lower case \n",
    "5 . Try to capitalize the whole string \n",
    "6 . Write a diference between isalnum() and isalpha()\n",
    "7. Try to give an example of expand tab\n",
    "8 . Give an example of strip , lstrip and rstrip \n",
    "9.  Replace a string charecter by another charector by taking your own example \n",
    "\"sudhanshu\"\n",
    "10 . Try  to give a defination of string center function with and exmple \n",
    "11 . Write your own definition of compiler and interpretor without copy paste form internet in your own language\n",
    "12 . Python is a interpreted of compiled language give a clear ans with your understanding \n",
    "13 . Try to write a usecase of python with your understanding ."
   ]
  },
  {
   "cell_type": "code",
   "execution_count": 4,
   "id": "bc99989a",
   "metadata": {},
   "outputs": [],
   "source": [
    "s = \"this is My First Python programming class and i am learNING python string and its function\""
   ]
  },
  {
   "cell_type": "markdown",
   "id": "bd1274fc",
   "metadata": {},
   "source": [
    "## Q1. Try to extract data from index one to index 300 with a jump of 3 "
   ]
  },
  {
   "cell_type": "code",
   "execution_count": 5,
   "id": "8bcb6293",
   "metadata": {},
   "outputs": [
    {
     "name": "stdout",
     "output_type": "stream",
     "text": [
      "h   r tnrrmglsnimeNGyosi dtfco\n"
     ]
    }
   ],
   "source": [
    "print(s[1:300:3])"
   ]
  },
  {
   "cell_type": "markdown",
   "id": "d112fefb",
   "metadata": {},
   "source": [
    "## Q2. Try to reverse a string without using reverse function "
   ]
  },
  {
   "cell_type": "code",
   "execution_count": 7,
   "id": "dd8451a0",
   "metadata": {},
   "outputs": [
    {
     "data": {
      "text/plain": [
       "'noitcnuf sti dna gnirts nohtyp GNINrael ma i dna ssalc gnimmargorp nohtyP tsriF yM si siht'"
      ]
     },
     "execution_count": 7,
     "metadata": {},
     "output_type": "execute_result"
    }
   ],
   "source": [
    "s[::-1]"
   ]
  },
  {
   "cell_type": "markdown",
   "id": "dd00400b",
   "metadata": {},
   "source": [
    "## Q3. Try to split a string after conversion of entire string in uppercase "
   ]
  },
  {
   "cell_type": "code",
   "execution_count": 8,
   "id": "311dbeb6",
   "metadata": {},
   "outputs": [
    {
     "data": {
      "text/plain": [
       "'THIS IS MY FIRST PYTHON PROGRAMMING CLASS AND I AM LEARNING PYTHON STRING AND ITS FUNCTION'"
      ]
     },
     "execution_count": 8,
     "metadata": {},
     "output_type": "execute_result"
    }
   ],
   "source": [
    "s.upper()"
   ]
  },
  {
   "cell_type": "code",
   "execution_count": 10,
   "id": "f0a07a66",
   "metadata": {},
   "outputs": [
    {
     "name": "stdout",
     "output_type": "stream",
     "text": [
      "['this', 'is', 'My', 'First', 'Python', 'programming', 'class', 'and', 'i', 'am', 'learNING', 'python', 'string', 'and', 'its', 'function']\n"
     ]
    }
   ],
   "source": [
    "print(s.split())"
   ]
  },
  {
   "cell_type": "markdown",
   "id": "80ee7ebb",
   "metadata": {},
   "source": [
    "## Q4. try to convert the whole string into lower case "
   ]
  },
  {
   "cell_type": "code",
   "execution_count": 11,
   "id": "c3935266",
   "metadata": {},
   "outputs": [
    {
     "data": {
      "text/plain": [
       "'this is my first python programming class and i am learning python string and its function'"
      ]
     },
     "execution_count": 11,
     "metadata": {},
     "output_type": "execute_result"
    }
   ],
   "source": [
    "s.lower()"
   ]
  },
  {
   "cell_type": "markdown",
   "id": "8e42dc9f",
   "metadata": {},
   "source": [
    "## Q5. Try to capitalize the whole string "
   ]
  },
  {
   "cell_type": "code",
   "execution_count": 12,
   "id": "f337fbc7",
   "metadata": {},
   "outputs": [
    {
     "data": {
      "text/plain": [
       "'This is my first python programming class and i am learning python string and its function'"
      ]
     },
     "execution_count": 12,
     "metadata": {},
     "output_type": "execute_result"
    }
   ],
   "source": [
    "s.capitalize()"
   ]
  },
  {
   "cell_type": "markdown",
   "id": "e69fd1f8",
   "metadata": {},
   "source": [
    "## Q6. Write a diference between isalnum() and isalpha()"
   ]
  },
  {
   "cell_type": "code",
   "execution_count": null,
   "id": "cab93408",
   "metadata": {},
   "outputs": [],
   "source": [
    "isalnum() method returns true if all characters of a string are either alphabets (between ‘A’ to ‘Z’ and between ‘a’ to ‘z’) or numbers (0 to 9) or both, otherwise method returns false.\n",
    "\n",
    "isalpha() method returns true if all characters of a string are only alphabets (between ‘A’ to ‘Z’ and between ‘a’ to ‘z’). If there is any non alphabet character in the string, method returns false.\n",
    "print s.isalpha()"
   ]
  },
  {
   "cell_type": "markdown",
   "id": "9d438004",
   "metadata": {},
   "source": [
    "## Q7. Try to give an example of expand tab"
   ]
  },
  {
   "cell_type": "code",
   "execution_count": 14,
   "id": "7d7a7ec6",
   "metadata": {},
   "outputs": [
    {
     "data": {
      "text/plain": [
       "'Lipa    Kumari'"
      ]
     },
     "execution_count": 14,
     "metadata": {},
     "output_type": "execute_result"
    }
   ],
   "source": [
    "s=\"Lipa\\tKumari\"\n",
    "s.expandtabs()"
   ]
  },
  {
   "cell_type": "markdown",
   "id": "211f475d",
   "metadata": {},
   "source": [
    "## Q8 . Give an example of strip , lstrip and rstrip "
   ]
  },
  {
   "cell_type": "code",
   "execution_count": 21,
   "id": "9639fbb0",
   "metadata": {},
   "outputs": [
    {
     "data": {
      "text/plain": [
       "'my name is Lipa'"
      ]
     },
     "execution_count": 21,
     "metadata": {},
     "output_type": "execute_result"
    }
   ],
   "source": [
    "s=\"        my name is Lipa\"\n",
    "s.strip()"
   ]
  },
  {
   "cell_type": "code",
   "execution_count": 22,
   "id": "2716c6f9",
   "metadata": {},
   "outputs": [
    {
     "data": {
      "text/plain": [
       "'my name is Lipa'"
      ]
     },
     "execution_count": 22,
     "metadata": {},
     "output_type": "execute_result"
    }
   ],
   "source": [
    "s.lstrip()"
   ]
  },
  {
   "cell_type": "code",
   "execution_count": 23,
   "id": "b98b406f",
   "metadata": {},
   "outputs": [
    {
     "data": {
      "text/plain": [
       "'        my name is Lipa'"
      ]
     },
     "execution_count": 23,
     "metadata": {},
     "output_type": "execute_result"
    }
   ],
   "source": [
    "s.rstrip()"
   ]
  },
  {
   "cell_type": "markdown",
   "id": "7812288e",
   "metadata": {},
   "source": [
    "## Q9.  Replace a string charecter by another charector by taking your own example \n"
   ]
  },
  {
   "cell_type": "code",
   "execution_count": 25,
   "id": "77fa18d5",
   "metadata": {},
   "outputs": [
    {
     "data": {
      "text/plain": [
       "'Sruti Sruti'"
      ]
     },
     "execution_count": 25,
     "metadata": {},
     "output_type": "execute_result"
    }
   ],
   "source": [
    "s=\"Anulipsa Sruti\"\n",
    "s.replace(\"Anulipsa\",\"Sruti\")"
   ]
  },
  {
   "cell_type": "markdown",
   "id": "d99ee18e",
   "metadata": {},
   "source": [
    "## Q10 . Try  to give a defination of string center function with and exmple "
   ]
  },
  {
   "cell_type": "code",
   "execution_count": 29,
   "id": "f9f34f06",
   "metadata": {},
   "outputs": [
    {
     "ename": "SyntaxError",
     "evalue": "invalid syntax (Temp/ipykernel_13848/1644136973.py, line 1)",
     "output_type": "error",
     "traceback": [
      "\u001b[1;36m  File \u001b[1;32m\"C:\\Users\\ANULIP~1\\AppData\\Local\\Temp/ipykernel_13848/1644136973.py\"\u001b[1;36m, line \u001b[1;32m1\u001b[0m\n\u001b[1;33m    The method center() returns centered in a string of length width. Padding is done using the specified fillchar. Default filler is a space.\u001b[0m\n\u001b[1;37m        ^\u001b[0m\n\u001b[1;31mSyntaxError\u001b[0m\u001b[1;31m:\u001b[0m invalid syntax\n"
     ]
    }
   ],
   "source": [
    "The method center() returns centered in a string of length width. Padding is done using the specified fillchar. Default filler is a space.\n",
    "str.center(width[, fillchar])\n"
   ]
  },
  {
   "cell_type": "code",
   "execution_count": 32,
   "id": "82af888b",
   "metadata": {},
   "outputs": [
    {
     "data": {
      "text/plain": [
       "'######Anulipsa######'"
      ]
     },
     "execution_count": 32,
     "metadata": {},
     "output_type": "execute_result"
    }
   ],
   "source": [
    "s=\"Anulipsa\"\n",
    "s.center(20,'#')"
   ]
  },
  {
   "cell_type": "markdown",
   "id": "50ed9238",
   "metadata": {},
   "source": [
    "## Q11 . Write your own definition of compiler and interpretor without copy paste form internet in your own language"
   ]
  },
  {
   "cell_type": "code",
   "execution_count": null,
   "id": "7974acd8",
   "metadata": {},
   "outputs": [],
   "source": [
    "1.compiler scans the entire program and translates whole of it into machine code.\n",
    "2.compiler translates the complete progam in a single run.\n",
    "3.interpreter translates one statement at a time into machine  code.\n",
    "4.interpreter translates the source program line by line.\n"
   ]
  },
  {
   "cell_type": "markdown",
   "id": "24d67369",
   "metadata": {},
   "source": [
    "## Q12 . Python is a interpreted of compiled language give a clear ans with your understanding "
   ]
  },
  {
   "cell_type": "code",
   "execution_count": null,
   "id": "b2947092",
   "metadata": {},
   "outputs": [],
   "source": [
    "1.python as a language is not interpreted or compiled.\n",
    "interpreted or compiled is the property of the implementation.\n",
    "python is a bytecode.\n",
    "2.it works in two layer , first the .py file is compiled to an intermediate code of .pyc then .pyc file is directly interpreted as for final output.\n",
    "3.first it compiles after it try to interpreted.\n",
    "\n",
    "source code-\n",
    "        compiler----bytecode----interpreter----machinecode"
   ]
  },
  {
   "cell_type": "markdown",
   "id": "a0478728",
   "metadata": {},
   "source": [
    "## Q13 . Try to write a usecase of python with your understanding "
   ]
  },
  {
   "cell_type": "code",
   "execution_count": null,
   "id": "3ef70421",
   "metadata": {},
   "outputs": [],
   "source": [
    "use cases of python:\n",
    "    Data Science,\n",
    "    Artificial Intelligence\n",
    "    Game development\n",
    "    Internet of Things\n",
    "    Web Scraping\n",
    "    Desktop GUI"
   ]
  },
  {
   "cell_type": "code",
   "execution_count": null,
   "id": "52f1d82b",
   "metadata": {},
   "outputs": [],
   "source": [
    "#20th may#\n",
    "\n",
    "l = [3,4,5,6,7 , [23,456,67,8,78,78] , [345,56,87,8,98,9] , (234,6657,6) , {\"key1\" :\"sudh\" , 234:[23,45,656]}]\n",
    "1 . Try to reverse a list \n",
    "2. try to access 234 out of this list \n",
    "3 . try to access 456 \n",
    "4 . Try to extract only a list collection form list l \n",
    "5 . Try to extract \"sudh\"\n",
    "6 . Try to list all the key in dict element avaible in list \n",
    "7 . Try to extract all the value element form dict available in list "
   ]
  },
  {
   "cell_type": "code",
   "execution_count": 34,
   "id": "6e1a4537",
   "metadata": {},
   "outputs": [],
   "source": [
    "l = [3,4,5,6,7 , [23,456,67,8,78,78] , [345,56,87,8,98,9] , (234,6657,6) , {\"key1\" :\"sudh\" , 234:[23,45,656]}]"
   ]
  },
  {
   "cell_type": "markdown",
   "id": "5d05e2f1",
   "metadata": {},
   "source": [
    "## Q1 . Try to reverse a list "
   ]
  },
  {
   "cell_type": "code",
   "execution_count": 35,
   "id": "b1cfb306",
   "metadata": {},
   "outputs": [
    {
     "data": {
      "text/plain": [
       "[{'key1': 'sudh', 234: [23, 45, 656]},\n",
       " (234, 6657, 6),\n",
       " [345, 56, 87, 8, 98, 9],\n",
       " [23, 456, 67, 8, 78, 78],\n",
       " 7,\n",
       " 6,\n",
       " 5,\n",
       " 4,\n",
       " 3]"
      ]
     },
     "execution_count": 35,
     "metadata": {},
     "output_type": "execute_result"
    }
   ],
   "source": [
    "l[::-1]"
   ]
  },
  {
   "cell_type": "code",
   "execution_count": 43,
   "id": "89c15c3d",
   "metadata": {},
   "outputs": [],
   "source": [
    "l.reverse()"
   ]
  },
  {
   "cell_type": "code",
   "execution_count": 44,
   "id": "6aaf669f",
   "metadata": {},
   "outputs": [
    {
     "data": {
      "text/plain": [
       "[3,\n",
       " 4,\n",
       " 5,\n",
       " 6,\n",
       " 7,\n",
       " [23, 456, 67, 8, 78, 78],\n",
       " [345, 56, 87, 8, 98, 9],\n",
       " (234, 6657, 6),\n",
       " {'key1': 'sudh', 234: [23, 45, 656]}]"
      ]
     },
     "execution_count": 44,
     "metadata": {},
     "output_type": "execute_result"
    }
   ],
   "source": [
    "l"
   ]
  },
  {
   "cell_type": "markdown",
   "id": "bca4fe3d",
   "metadata": {},
   "source": [
    "## Q2. try to access 234 out of this list "
   ]
  },
  {
   "cell_type": "code",
   "execution_count": 46,
   "id": "cdb69805",
   "metadata": {},
   "outputs": [
    {
     "data": {
      "text/plain": [
       "234"
      ]
     },
     "execution_count": 46,
     "metadata": {},
     "output_type": "execute_result"
    }
   ],
   "source": [
    "l[7][0]"
   ]
  },
  {
   "cell_type": "code",
   "execution_count": 49,
   "id": "a576582a",
   "metadata": {},
   "outputs": [
    {
     "data": {
      "text/plain": [
       "234"
      ]
     },
     "execution_count": 49,
     "metadata": {},
     "output_type": "execute_result"
    }
   ],
   "source": [
    "list(l[8].keys())[1]"
   ]
  },
  {
   "cell_type": "markdown",
   "id": "f8ffdc06",
   "metadata": {},
   "source": [
    "## Q3 . try to access 456 "
   ]
  },
  {
   "cell_type": "code",
   "execution_count": 52,
   "id": "4ca43eba",
   "metadata": {},
   "outputs": [
    {
     "data": {
      "text/plain": [
       "456"
      ]
     },
     "execution_count": 52,
     "metadata": {},
     "output_type": "execute_result"
    }
   ],
   "source": [
    "l[5][1]"
   ]
  },
  {
   "cell_type": "markdown",
   "id": "96520501",
   "metadata": {},
   "source": [
    "## Q4 . Try to extract only a list collection form list l "
   ]
  },
  {
   "cell_type": "code",
   "execution_count": 55,
   "id": "750b730e",
   "metadata": {},
   "outputs": [
    {
     "data": {
      "text/plain": [
       "[[23, 456, 67, 8, 78, 78], [345, 56, 87, 8, 98, 9]]"
      ]
     },
     "execution_count": 55,
     "metadata": {},
     "output_type": "execute_result"
    }
   ],
   "source": [
    "l[5:7]"
   ]
  },
  {
   "cell_type": "markdown",
   "id": "29c47bcd",
   "metadata": {},
   "source": [
    "## Q5 . Try to extract \"sudh\""
   ]
  },
  {
   "cell_type": "code",
   "execution_count": 57,
   "id": "d269f402",
   "metadata": {},
   "outputs": [
    {
     "data": {
      "text/plain": [
       "'sudh'"
      ]
     },
     "execution_count": 57,
     "metadata": {},
     "output_type": "execute_result"
    }
   ],
   "source": [
    "l[8]['key1']"
   ]
  },
  {
   "cell_type": "markdown",
   "id": "40941a34",
   "metadata": {},
   "source": [
    "## Q6. Try to list all the key in dict element avaible in list "
   ]
  },
  {
   "cell_type": "code",
   "execution_count": 60,
   "id": "1ba69978",
   "metadata": {},
   "outputs": [
    {
     "data": {
      "text/plain": [
       "['key1', 234]"
      ]
     },
     "execution_count": 60,
     "metadata": {},
     "output_type": "execute_result"
    }
   ],
   "source": [
    "list(l[8].keys())"
   ]
  },
  {
   "cell_type": "markdown",
   "id": "af9a2569",
   "metadata": {},
   "source": [
    "## Q7 . Try to extract all the value element form dict available in list "
   ]
  },
  {
   "cell_type": "code",
   "execution_count": 61,
   "id": "176e665b",
   "metadata": {},
   "outputs": [
    {
     "data": {
      "text/plain": [
       "['sudh', [23, 45, 656]]"
      ]
     },
     "execution_count": 61,
     "metadata": {},
     "output_type": "execute_result"
    }
   ],
   "source": [
    "list(l[8].values())"
   ]
  },
  {
   "cell_type": "code",
   "execution_count": null,
   "id": "82450b54",
   "metadata": {},
   "outputs": [],
   "source": []
  }
 ],
 "metadata": {
  "kernelspec": {
   "display_name": "Python 3 (ipykernel)",
   "language": "python",
   "name": "python3"
  },
  "language_info": {
   "codemirror_mode": {
    "name": "ipython",
    "version": 3
   },
   "file_extension": ".py",
   "mimetype": "text/x-python",
   "name": "python",
   "nbconvert_exporter": "python",
   "pygments_lexer": "ipython3",
   "version": "3.9.7"
  }
 },
 "nbformat": 4,
 "nbformat_minor": 5
}
