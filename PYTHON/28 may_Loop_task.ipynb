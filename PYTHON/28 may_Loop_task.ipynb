{
 "cells": [
  {
   "cell_type": "code",
   "execution_count": null,
   "id": "5e9e3edc",
   "metadata": {},
   "outputs": [],
   "source": [
    "q1 :\n",
    "ineruon \n",
    "ineruon ineruon \n",
    "ineruon ineruon ineruon\n",
    "ineruon ineruon ineruon ineruon\n",
    "\n",
    "q2 - \n",
    "\n",
    "          ineruon\n",
    "    ineruon      ineruon\n",
    "ineruon\t\tineruon \tineruon\n",
    "\tineruon\t\t ineruon\n",
    "\t\t  ineruon\n",
    "\n",
    "l = [[1,2,3,4] , (2,3,4,5,6) , (3,4,5,6,7) , set([23,4,5,45,4,4,5,45,45,4,5]) , {'k1' :\"sudh\" , \"k2\" : \"ineuron\",\"k3\":\n",
    "            \"kumar\" , 3:6 , 7:8} , [\"ineuron\" , \"data science \"]]\n",
    "\n",
    "q3 : Try to extract all the list entity \n",
    "q4 : Try to extract all the dict enteties\n",
    "q5 : Try to extract all the tuples entities\n",
    "q6 : Try to extract all the numerical data it may b a part of dict key and values \n",
    "q7 : Try to give summation of all the numeric data \n",
    "q8 : Try to filter out all the odd values out all numeric data which is a part of a list \n",
    "q9 : Try to extract \"ineruon\" out of this data\n",
    "q10 : Try to find out a number of occurances of all the data \n",
    "q11 : Try to find out number of keys in dict element\n",
    "q12 : Try to filter out all the string data \n",
    "q13 : Try to Find  out alphanum in data\n",
    "q14 : Try to find out multiplication of all numeric value in the individual collection inside dataset\n",
    "\n"
   ]
  },
  {
   "cell_type": "markdown",
   "id": "31c1ec7b",
   "metadata": {},
   "source": [
    "## Q1"
   ]
  },
  {
   "cell_type": "code",
   "execution_count": 2,
   "id": "0f1b268a",
   "metadata": {},
   "outputs": [
    {
     "name": "stdout",
     "output_type": "stream",
     "text": [
      "Please enter how many rows you want to print: 4\n",
      "\n",
      "ineuron \n",
      "ineuron ineuron \n",
      "ineuron ineuron ineuron \n",
      "ineuron ineuron ineuron ineuron \n"
     ]
    }
   ],
   "source": [
    "row = int(input(\"Please enter how many rows you want to print: \"))\n",
    "print()\n",
    "for i in range(row):\n",
    "    print(\"ineuron \"*(i+1))"
   ]
  },
  {
   "cell_type": "markdown",
   "id": "8550fa27",
   "metadata": {},
   "source": [
    "## Q2"
   ]
  },
  {
   "cell_type": "code",
   "execution_count": 3,
   "id": "1c05e756",
   "metadata": {},
   "outputs": [
    {
     "name": "stdout",
     "output_type": "stream",
     "text": [
      "                              \n",
      "           ineuron            \n",
      "       ineuron ineuron        \n",
      "   ineuron ineuron ineuron    \n",
      "       ineuron ineuron        \n",
      "           ineuron            \n"
     ]
    }
   ],
   "source": [
    "for i in range(6):\n",
    "    if i <= 3:\n",
    "        n = i\n",
    "    else:\n",
    "        n = 6 - i\n",
    "    print((\"ineuron \"*n).center(30,' '))"
   ]
  },
  {
   "cell_type": "code",
   "execution_count": 7,
   "id": "1bfe2d40",
   "metadata": {},
   "outputs": [],
   "source": [
    "l = [[1,2,3,4] , (2,3,4,5,6) , (3,4,5,6,7) , set([23,4,5,45,4,4,5,45,45,4,5]) , {'k1' :\"sudh\" , \"k2\" : \"ineuron\",\"k3\":\n",
    "            \"kumar\" , 3:6 , 7:8} , [\"ineuron\" , \"data science \"]]"
   ]
  },
  {
   "cell_type": "markdown",
   "id": "7b6980fb",
   "metadata": {},
   "source": [
    "## Q3. Try to extract all the list entity "
   ]
  },
  {
   "cell_type": "code",
   "execution_count": 10,
   "id": "d4894645",
   "metadata": {},
   "outputs": [
    {
     "name": "stdout",
     "output_type": "stream",
     "text": [
      "[1, 2, 3, 4]\n",
      "['ineuron', 'data science ']\n"
     ]
    }
   ],
   "source": [
    "for i in l:\n",
    "    if type(i) ==list:\n",
    "        print(i)\n"
   ]
  },
  {
   "cell_type": "markdown",
   "id": "175fa415",
   "metadata": {},
   "source": [
    "## Q4. Try to extract all the dict enteties"
   ]
  },
  {
   "cell_type": "code",
   "execution_count": 11,
   "id": "70467c26",
   "metadata": {},
   "outputs": [
    {
     "name": "stdout",
     "output_type": "stream",
     "text": [
      "{'k1': 'sudh', 'k2': 'ineuron', 'k3': 'kumar', 3: 6, 7: 8}\n"
     ]
    }
   ],
   "source": [
    "for i in l:\n",
    "    if type(i)==dict:\n",
    "        print(i)"
   ]
  },
  {
   "cell_type": "markdown",
   "id": "c141998e",
   "metadata": {},
   "source": [
    "## Q5. Try to extract all the tuples entities"
   ]
  },
  {
   "cell_type": "code",
   "execution_count": 12,
   "id": "d7e82915",
   "metadata": {},
   "outputs": [
    {
     "name": "stdout",
     "output_type": "stream",
     "text": [
      "(2, 3, 4, 5, 6)\n",
      "(3, 4, 5, 6, 7)\n"
     ]
    }
   ],
   "source": [
    "for i in l:\n",
    "    if type(i)==tuple:\n",
    "        print(i)"
   ]
  },
  {
   "cell_type": "markdown",
   "id": "614b8801",
   "metadata": {},
   "source": [
    "## Q6.Try to extract all the numerical data it may b a part of dict key and values "
   ]
  },
  {
   "cell_type": "code",
   "execution_count": 76,
   "id": "86fc1387",
   "metadata": {},
   "outputs": [],
   "source": [
    "l1 = []\n",
    "for i in l:\n",
    "    if type(i) == list or type(i) == tuple or type(i) == set :\n",
    "        for j in i :\n",
    "            if type(j) == int :\n",
    "                l1.append(j)\n",
    "    if type(i) == dict :\n",
    "        for k in i.items() : \n",
    "            for g in k :\n",
    "                if type(g) == int :\n",
    "                    l1.append(g)"
   ]
  },
  {
   "cell_type": "code",
   "execution_count": 77,
   "id": "9a25136b",
   "metadata": {},
   "outputs": [
    {
     "data": {
      "text/plain": [
       "[1, 2, 3, 4, 2, 3, 4, 5, 6, 3, 4, 5, 6, 7, 45, 4, 5, 23, 3, 6, 7, 8]"
      ]
     },
     "execution_count": 77,
     "metadata": {},
     "output_type": "execute_result"
    }
   ],
   "source": [
    "l1"
   ]
  },
  {
   "cell_type": "markdown",
   "id": "f59883af",
   "metadata": {},
   "source": [
    "## Q7. Try to give summation of all the numeric data"
   ]
  },
  {
   "cell_type": "code",
   "execution_count": 58,
   "id": "5f64e968",
   "metadata": {},
   "outputs": [
    {
     "data": {
      "text/plain": [
       "[1, 2, 3, 4, 2, 3, 4, 5, 6, 3, 4, 5, 6, 7, 45, 4, 5, 23, 3, 6, 7, 8]"
      ]
     },
     "execution_count": 58,
     "metadata": {},
     "output_type": "execute_result"
    }
   ],
   "source": [
    "l1"
   ]
  },
  {
   "cell_type": "code",
   "execution_count": 59,
   "id": "9aef9886",
   "metadata": {},
   "outputs": [
    {
     "data": {
      "text/plain": [
       "156"
      ]
     },
     "execution_count": 59,
     "metadata": {},
     "output_type": "execute_result"
    }
   ],
   "source": [
    "sum(l1)"
   ]
  },
  {
   "cell_type": "markdown",
   "id": "f28079d0",
   "metadata": {},
   "source": [
    "## Q8. Try to filter out all the odd values out all numeric data which is a part of a list "
   ]
  },
  {
   "cell_type": "code",
   "execution_count": 25,
   "id": "e7a6bab3",
   "metadata": {},
   "outputs": [
    {
     "name": "stdout",
     "output_type": "stream",
     "text": [
      "1\n",
      "3\n",
      "3\n",
      "5\n",
      "3\n",
      "5\n",
      "7\n",
      "45\n",
      "5\n",
      "23\n",
      "3\n",
      "7\n"
     ]
    }
   ],
   "source": [
    "l2=[]\n",
    "for i in l1:\n",
    "    if i % 2==0:\n",
    "        pass\n",
    "    else:\n",
    "        print(i)\n",
    "        "
   ]
  },
  {
   "cell_type": "markdown",
   "id": "bed00dcd",
   "metadata": {},
   "source": [
    "## Q9. Try to extract \"ineruon\" out of this data"
   ]
  },
  {
   "cell_type": "code",
   "execution_count": 26,
   "id": "f947dbfb",
   "metadata": {},
   "outputs": [],
   "source": [
    "l = [[1,2,3,4] , (2,3,4,5,6) , (3,4,5,6,7) , set([23,4,5,45,4,4,5,45,45,4,5]) , {'k1' :\"sudh\" , \"k2\" : \"ineuron\",\"k3\":\n",
    "            \"kumar\" , 3:6 , 7:8} , [\"ineuron\" , \"data science \"]]"
   ]
  },
  {
   "cell_type": "code",
   "execution_count": 64,
   "id": "75ebacce",
   "metadata": {},
   "outputs": [],
   "source": [
    "l3=[]\n",
    "for i in l:\n",
    "    if type(i)==list or type(i)==tuple or type(i)==set:\n",
    "        for j in i:\n",
    "            if j =='ineuron':\n",
    "                l3.append(j)\n",
    "    if type(i) == dict :\n",
    "        for k in i.items() : \n",
    "            for g in k :\n",
    "                if g == 'ineuron' :\n",
    "                    l3.append(g)\n",
    "        "
   ]
  },
  {
   "cell_type": "code",
   "execution_count": 65,
   "id": "61351294",
   "metadata": {},
   "outputs": [
    {
     "data": {
      "text/plain": [
       "['ineuron', 'ineuron']"
      ]
     },
     "execution_count": 65,
     "metadata": {},
     "output_type": "execute_result"
    }
   ],
   "source": [
    "l3"
   ]
  },
  {
   "cell_type": "markdown",
   "id": "8395d168",
   "metadata": {},
   "source": [
    "## Q10.Try to find out a number of occurances of all the data "
   ]
  },
  {
   "cell_type": "code",
   "execution_count": 66,
   "id": "501fd1c6",
   "metadata": {},
   "outputs": [],
   "source": [
    "l4 = []\n",
    "for i in l:\n",
    "    if type(i) == list or type(i) == tuple or type(i) == set :\n",
    "        for j in i :\n",
    "            if type(j) == int or str :\n",
    "                l4.append(j)\n",
    "    if type(i) == dict :\n",
    "        for k in i.items() : \n",
    "            for g in k :\n",
    "                if type(g) == int or str :\n",
    "                    l4.append(g)"
   ]
  },
  {
   "cell_type": "code",
   "execution_count": 67,
   "id": "9ee54773",
   "metadata": {},
   "outputs": [
    {
     "data": {
      "text/plain": [
       "[1,\n",
       " 2,\n",
       " 3,\n",
       " 4,\n",
       " 2,\n",
       " 3,\n",
       " 4,\n",
       " 5,\n",
       " 6,\n",
       " 3,\n",
       " 4,\n",
       " 5,\n",
       " 6,\n",
       " 7,\n",
       " 45,\n",
       " 4,\n",
       " 5,\n",
       " 23,\n",
       " 'k1',\n",
       " 'sudh',\n",
       " 'k2',\n",
       " 'ineuron',\n",
       " 'k3',\n",
       " 'kumar',\n",
       " 3,\n",
       " 6,\n",
       " 7,\n",
       " 8,\n",
       " 'ineuron',\n",
       " 'data science ']"
      ]
     },
     "execution_count": 67,
     "metadata": {},
     "output_type": "execute_result"
    }
   ],
   "source": [
    "l4"
   ]
  },
  {
   "cell_type": "markdown",
   "id": "a46933ba",
   "metadata": {},
   "source": [
    "## Q11.Try to find out number of keys in dict element"
   ]
  },
  {
   "cell_type": "markdown",
   "id": "5bdeba57",
   "metadata": {},
   "source": [
    " ## Q12.Try to filter out all the string data "
   ]
  },
  {
   "cell_type": "code",
   "execution_count": 73,
   "id": "94b54686",
   "metadata": {},
   "outputs": [
    {
     "name": "stdout",
     "output_type": "stream",
     "text": [
      "k1\n",
      "sudh\n",
      "k2\n",
      "ineuron\n",
      "k3\n",
      "kumar\n",
      "ineuron\n",
      "data science \n"
     ]
    }
   ],
   "source": [
    "for i in l4 :\n",
    "    if type(i) == str:\n",
    "        print(i)"
   ]
  },
  {
   "cell_type": "markdown",
   "id": "6c78389c",
   "metadata": {},
   "source": [
    "## Q13. Try to Find  out alphanum in data"
   ]
  },
  {
   "cell_type": "code",
   "execution_count": 52,
   "id": "9292d84e",
   "metadata": {},
   "outputs": [
    {
     "name": "stdout",
     "output_type": "stream",
     "text": [
      "k1\n",
      "sudh\n",
      "k2\n",
      "ineuron\n",
      "k3\n",
      "kumar\n",
      "ineuron\n"
     ]
    }
   ],
   "source": [
    "for i in l1 :\n",
    "    if type(i) == str :\n",
    "        if i.isalnum() : \n",
    "            print(i)"
   ]
  },
  {
   "cell_type": "markdown",
   "id": "0aa2c977",
   "metadata": {},
   "source": [
    "## Q14.Try to find out multiplication of all numeric value in the individual collection inside dataset"
   ]
  },
  {
   "cell_type": "code",
   "execution_count": 79,
   "id": "fa46a674",
   "metadata": {},
   "outputs": [
    {
     "data": {
      "text/plain": [
       "[[1, 2, 3, 4],\n",
       " (2, 3, 4, 5, 6),\n",
       " (3, 4, 5, 6, 7),\n",
       " {4, 5, 23, 45},\n",
       " {'k1': 'sudh', 'k2': 'ineuron', 'k3': 'kumar', 3: 6, 7: 8},\n",
       " ['ineuron', 'data science ']]"
      ]
     },
     "execution_count": 79,
     "metadata": {},
     "output_type": "execute_result"
    }
   ],
   "source": [
    "l"
   ]
  },
  {
   "cell_type": "code",
   "execution_count": 109,
   "id": "62cdd9a5",
   "metadata": {},
   "outputs": [
    {
     "name": "stdout",
     "output_type": "stream",
     "text": [
      "<class 'list'> 24\n",
      "<class 'tuple'> 720\n",
      "<class 'tuple'> 2520\n",
      "<class 'set'> 20700\n",
      "<class 'dict'> 1008\n",
      "<class 'list'> 1\n"
     ]
    }
   ],
   "source": [
    "for i in l:\n",
    "    m=1\n",
    "    if type(i)==list or type(i)==tuple or type(i)==set:\n",
    "        for j in i:\n",
    "            if type(j)==int:\n",
    "                m=m*j\n",
    "    if type(i)==dict:\n",
    "        for k,v in i.items():\n",
    "            if type(k)==int and type(v)==int:\n",
    "                m=m*k*v\n",
    "    print(type(i),m)"
   ]
  }
 ],
 "metadata": {
  "kernelspec": {
   "display_name": "Python 3 (ipykernel)",
   "language": "python",
   "name": "python3"
  },
  "language_info": {
   "codemirror_mode": {
    "name": "ipython",
    "version": 3
   },
   "file_extension": ".py",
   "mimetype": "text/x-python",
   "name": "python",
   "nbconvert_exporter": "python",
   "pygments_lexer": "ipython3",
   "version": "3.9.7"
  }
 },
 "nbformat": 4,
 "nbformat_minor": 5
}
