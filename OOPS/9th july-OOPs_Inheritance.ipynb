{
 "cells": [
  {
   "cell_type": "markdown",
   "id": "8fa5ce9b",
   "metadata": {},
   "source": [
    "OOPS: Inheritance + Data Abstraction + Encapsulation + Polymorphism"
   ]
  },
  {
   "cell_type": "markdown",
   "id": "96b0404a",
   "metadata": {},
   "source": [
    "# Types of Inheritance:\n",
    "\n",
    "Single Inheritance\n",
    "\n",
    "Multiple Inheritance\n",
    "\n",
    "Multi-level Inheritance"
   ]
  },
  {
   "cell_type": "code",
   "execution_count": null,
   "id": "b7d84554",
   "metadata": {},
   "outputs": [],
   "source": [
    "#Single Inheritance Example\n",
    "class car:  #Parent class\n",
    "  \n",
    "    def __init__(self,body,engine,tyre):\n",
    "        self.body = body\n",
    "        self.engine = engine\n",
    "        self.tyre = tyre\n",
    "    def mileage(self):\n",
    "        print(\"Mileage of this car\")\n",
    "\n",
    "c = car(\"solid\",\"v6\",\"radial\")\n",
    "print(c)\n",
    "#Suppose we are creating another class which also require body, engine, tyre. So we can inherit Class Car instead of re-initializing\n",
    "\n",
    "class tata(car): #Child Class\n",
    "    pass\n",
    "\n",
    "\n",
    "t = tata()\n",
    "print(t) #Gives error as we didnt give arguments: body, engine, tyre. Since we have inherited car class, we have to provide the arguments\n",
    "\n",
    "p = tata(\"solid\",\"v8\",\"radial\")\n",
    "print(p)\n",
    "print(p.mileage()) #Will give output: \"Mileage of this car\""
   ]
  },
  {
   "cell_type": "code",
   "execution_count": 8,
   "id": "b5ccab74",
   "metadata": {},
   "outputs": [
    {
     "name": "stdout",
     "output_type": "stream",
     "text": [
      "This will show you all the transactions happened to ICICI bank through hdfc\n",
      "Total transaction value\n",
      "This will show you account open status\n",
      "This will show your deposited amount\n"
     ]
    }
   ],
   "source": [
    "#Multilevel Inheritance Example\n",
    "class bank:\n",
    "\n",
    "    def transaction(self):\n",
    "        print(\"Total transaction value\")\n",
    "\n",
    "    def account_opening(self):\n",
    "        print(\"This will show you account open status\")\n",
    "  \n",
    "    def deposit(self):\n",
    "        print(\"This will show your deposited amount\")\n",
    "\n",
    "class HDFC_bank(bank):\n",
    "  \n",
    "    def hdfc_to_icici(self):  \n",
    "        print(\"This will show you all the transactions happened to ICICI bank through hdfc\")\n",
    "\n",
    "class ICICI_bank(HDFC_bank): #Multilevel Inheritance: By default we can access Class Bank functions as well as HDFC_ bank functions inside the class ICICI_bank\n",
    "    pass\n",
    "\n",
    "i = ICICI_bank()\n",
    "#All the below functions are accessible\n",
    "i.hdfc_to_icici()\n",
    "i.transaction()\n",
    "i.account_opening()\n",
    "i.deposit()"
   ]
  },
  {
   "cell_type": "code",
   "execution_count": null,
   "id": "f95057dc",
   "metadata": {},
   "outputs": [],
   "source": [
    "#Multiple Inheritance Example (We can inherit beyond 2 classes as well)\n",
    "class bank:\n",
    "\n",
    "    def transaction(self):\n",
    "        print(\"Total transaction value\")\n",
    "\n",
    "    def account_opening(self):\n",
    "        print(\"This will show you account open status\")\n",
    "  \n",
    "    def deposit(self):\n",
    "        print(\"This will show your deposited amount\")\n",
    "\n",
    "class HDFC_bank(bank):\n",
    "  \n",
    "    def hdfc_to_icici(self):  \n",
    "        print(\"This will show you all the transactions happened to ICICI bank through hdfc\")\n",
    "\n",
    "class ICICI_bank(bank, HDFC_bank): #Multiple Inheritance: We can access Class Bank functions as well as HDFC_ bank functions inside the class ICICI_bank\n",
    "     pass\n",
    "\n",
    "i = ICICI_bank()\n",
    "#All the below functions are accessible\n",
    "i.hdfc_to_icici()\n",
    "i.transaction()\n",
    "i.account_opening()\n",
    "i.deposit()"
   ]
  },
  {
   "cell_type": "code",
   "execution_count": 13,
   "id": "5b55705c",
   "metadata": {},
   "outputs": [
    {
     "ename": "TypeError",
     "evalue": "Cannot create a consistent method resolution\norder (MRO) for bases bank, HDFC_bank",
     "output_type": "error",
     "traceback": [
      "\u001b[1;31m---------------------------------------------------------------------------\u001b[0m",
      "\u001b[1;31mTypeError\u001b[0m                                 Traceback (most recent call last)",
      "\u001b[1;32mC:\\Users\\ANULIP~1\\AppData\\Local\\Temp/ipykernel_2004/715126755.py\u001b[0m in \u001b[0;36m<module>\u001b[1;34m\u001b[0m\n\u001b[0;32m     22\u001b[0m         \u001b[0mprint\u001b[0m\u001b[1;33m(\u001b[0m\u001b[1;34m\"This is a test method from hdfc bank class\"\u001b[0m\u001b[1;33m)\u001b[0m\u001b[1;33m\u001b[0m\u001b[1;33m\u001b[0m\u001b[0m\n\u001b[0;32m     23\u001b[0m \u001b[1;33m\u001b[0m\u001b[0m\n\u001b[1;32m---> 24\u001b[1;33m \u001b[1;32mclass\u001b[0m \u001b[0mICICI_bank\u001b[0m\u001b[1;33m(\u001b[0m\u001b[0mbank\u001b[0m\u001b[1;33m,\u001b[0m \u001b[0mHDFC_bank\u001b[0m\u001b[1;33m)\u001b[0m\u001b[1;33m:\u001b[0m \u001b[1;31m#Multiple Inheritance: We can access Class Bank functions as well as HDFC_ bank functions inside the class ICICI_bank\u001b[0m\u001b[1;33m\u001b[0m\u001b[1;33m\u001b[0m\u001b[0m\n\u001b[0m\u001b[0;32m     25\u001b[0m       \u001b[1;32mpass\u001b[0m\u001b[1;33m\u001b[0m\u001b[1;33m\u001b[0m\u001b[0m\n\u001b[0;32m     26\u001b[0m \u001b[1;33m\u001b[0m\u001b[0m\n",
      "\u001b[1;31mTypeError\u001b[0m: Cannot create a consistent method resolution\norder (MRO) for bases bank, HDFC_bank"
     ]
    }
   ],
   "source": [
    "#What if function name is same in different classes that is being inherited in a child class?\n",
    "class bank:\n",
    "\n",
    "    def transaction(self):\n",
    "        print(\"Total transaction value\")\n",
    "\n",
    "    def account_opening(self):\n",
    "        print(\"This will show you account open status\")\n",
    "  \n",
    "    def deposit(self):\n",
    "        print(\"This will show your deposited amount\")\n",
    "\n",
    "    def test(self):\n",
    "        print(\"This is a test method from bank class\")\n",
    "\n",
    "class HDFC_bank(bank):\n",
    "  \n",
    "    def hdfc_to_icici(self):  \n",
    "        print(\"This will show you all the transactions happened to ICICI bank through hdfc\")\n",
    "  \n",
    "    def test(self):\n",
    "        print(\"This is a test method from hdfc bank class\")\n",
    "\n",
    "class ICICI_bank(bank, HDFC_bank): #Multiple Inheritance: We can access Class Bank functions as well as HDFC_ bank functions inside the class ICICI_bank\n",
    "      pass\n",
    "\n",
    "i = ICICI_bank()\n",
    "i.test()  #bank class function test is invoked\n",
    "\n",
    "#If method name is same and we are performing multiple inheritance, then by default it is going to call the function which will be available first in the child classes call\n",
    "\n",
    "#hence suppose we create like this:\n",
    "class ICICI_bank(HDFC_bank,bank): #We have changed the order of Class\n",
    "    pass\n",
    "\n",
    "i = ICICI_bank()\n",
    "i.test()  #HDFC_bank class function test is invoked"
   ]
  },
  {
   "cell_type": "code",
   "execution_count": 14,
   "id": "76360b67",
   "metadata": {},
   "outputs": [
    {
     "name": "stdout",
     "output_type": "stream",
     "text": [
      "this will show you all the transaction happend to icici throuhg hdfc\n",
      "total transaction value \n",
      "this will show your deposited amount\n",
      "this will show you your account open status \n",
      "this is a test method form hdfc bank \n",
      "print a account status in icici \n"
     ]
    }
   ],
   "source": [
    "#More than two classes inherited: Multiple Inheritance Example\n",
    "class bank :\n",
    "    def transaction(self) :\n",
    "        print(\"total transaction value \")\n",
    "    def account_opening(self):\n",
    "        print(\"this will show you your account open status \")\n",
    "    def deposite(self):\n",
    "        print(\"this will show your deposited amount\")\n",
    "    def test(self):\n",
    "        print(\"this is a test methond form bank class \")\n",
    "\n",
    "\n",
    "class HDFC_bank:\n",
    "    def hdfc_to_icici(self):\n",
    "        print(\"this will show you all the transaction happend to icici throuhg hdfc\")\n",
    "    def test(self):\n",
    "        print(\"this is a test method form hdfc bank \")\n",
    "\n",
    "class ineron_bank:\n",
    "    def account_status_icici(self):\n",
    "        print(\"print a account status in icici \")\n",
    "\n",
    "class icici(HDFC_bank , bank , ineron_bank):\n",
    "    pass\n",
    "\n",
    "i = icici()\n",
    "i.hdfc_to_icici()\n",
    "i.transaction()\n",
    "i.deposite()\n",
    "i.account_opening()\n",
    "i.test()\n",
    "i.account_status_icici()"
   ]
  },
  {
   "cell_type": "code",
   "execution_count": 15,
   "id": "63ece341",
   "metadata": {},
   "outputs": [
    {
     "name": "stdout",
     "output_type": "stream",
     "text": [
      "These are the filtered student list\n"
     ]
    }
   ],
   "source": [
    "#Function/Method Overriding: If the name of the method is same in parent as well as child class, then function overiding happens in child class\n",
    "class ineuron:\n",
    "    def student(self):\n",
    "        print(\"Print the details of all the students\")\n",
    "\n",
    "    def achievers(self):\n",
    "        print(\"Print the list of all the achievers\")\n",
    "  \n",
    "    def hall_of_fame(self):\n",
    "        print(\"Print everyone from hall of fame\")\n",
    "\n",
    "class ineuron_vision(ineuron):\n",
    "    def student(self): #Method name Same\n",
    "        print(\"These are the filtered student list\")\n",
    "\n",
    "iv = ineuron_vision()\n",
    "iv.student() #Function Overiding. This will call method student of ineuron_vision class"
   ]
  },
  {
   "cell_type": "code",
   "execution_count": null,
   "id": "fbe3a8e9",
   "metadata": {},
   "outputs": [],
   "source": [
    "#Data Abstraction: In simple words, Hiding Data to the users. We dont give direct access to users. This is achieved using different access specifiers: public, private and protected\n",
    "class ineuron():\n",
    "    __students = 'Data Science' #Private Variable (In other words, We are hiding this variable behind my class). This phenomenon is called as Data Abstraction\n",
    "  \n",
    "    def students(self):\n",
    "        print(\"Print the class of students\",ineuron.__students)  #Correct way of calling private class variable\n",
    "\n",
    "i = ineuron()\n",
    "i.students() #Printing correctly\n",
    "i.__students #This will show error\n",
    "print(i._ineuron.__students) #Now we can access"
   ]
  },
  {
   "cell_type": "code",
   "execution_count": 17,
   "id": "6426cb0e",
   "metadata": {},
   "outputs": [
    {
     "ename": "TypeError",
     "evalue": "'str' object is not callable",
     "output_type": "error",
     "traceback": [
      "\u001b[1;31m---------------------------------------------------------------------------\u001b[0m",
      "\u001b[1;31mTypeError\u001b[0m                                 Traceback (most recent call last)",
      "\u001b[1;32mC:\\Users\\ANULIP~1\\AppData\\Local\\Temp/ipykernel_2004/2679279136.py\u001b[0m in \u001b[0;36m<module>\u001b[1;34m\u001b[0m\n\u001b[0;32m      8\u001b[0m \u001b[1;33m\u001b[0m\u001b[0m\n\u001b[0;32m      9\u001b[0m \u001b[0mi\u001b[0m \u001b[1;33m=\u001b[0m \u001b[0mineuron\u001b[0m\u001b[1;33m(\u001b[0m\u001b[1;33m)\u001b[0m\u001b[1;33m\u001b[0m\u001b[1;33m\u001b[0m\u001b[0m\n\u001b[1;32m---> 10\u001b[1;33m \u001b[0mi\u001b[0m\u001b[1;33m.\u001b[0m\u001b[0mstudents\u001b[0m\u001b[1;33m(\u001b[0m\u001b[1;33m)\u001b[0m \u001b[1;31m#Gives error: str object not callable: Because member name and member function name is same. We can replace students to students1 and then it\u001b[0m\u001b[1;33m\u001b[0m\u001b[1;33m\u001b[0m\u001b[0m\n\u001b[0m",
      "\u001b[1;31mTypeError\u001b[0m: 'str' object is not callable"
     ]
    }
   ],
   "source": [
    "#Concept of Encapsulation: Not supposed to modify the value directly by user. Illustrated using below cases\n",
    "class ineuron:\n",
    "    def __init__(self):\n",
    "        self.students = \"data science\"\n",
    "\n",
    "    def students(self):\n",
    "        print(self.students)\n",
    "\n",
    "i = ineuron()\n",
    "i.students() #Gives error: str object not callable: Because member name and member function name is same. We can replace students to students1 and then it "
   ]
  },
  {
   "cell_type": "code",
   "execution_count": 18,
   "id": "2ff09aba",
   "metadata": {},
   "outputs": [
    {
     "name": "stdout",
     "output_type": "stream",
     "text": [
      "data science\n"
     ]
    }
   ],
   "source": [
    "#Above problem resolved\n",
    "class ineuron:\n",
    "    def __init__(self):\n",
    "        self.students1 = \"data science\"\n",
    "\n",
    "    def students(self):\n",
    "        print(self.students1)\n",
    "\n",
    "i = ineuron()\n",
    "i.students() #Correctly displays output"
   ]
  },
  {
   "cell_type": "code",
   "execution_count": 19,
   "id": "752b7c36",
   "metadata": {},
   "outputs": [
    {
     "name": "stdout",
     "output_type": "stream",
     "text": [
      "data science\n",
      "data analytics\n"
     ]
    }
   ],
   "source": [
    "class ineuron:\n",
    "    def __init__(self):\n",
    "        self.students1 = \"data science\"\n",
    "\n",
    "    def students(self):\n",
    "        print(self.students1)\n",
    "\n",
    "i = ineuron()\n",
    "i.students() \n",
    "i.students1 = \"data analytics\"\n",
    "i.students()  #Printing data analytics as we have overrriden value of variable students1 in run time. This was possible because it is a public variable"
   ]
  },
  {
   "cell_type": "code",
   "execution_count": 20,
   "id": "d6578804",
   "metadata": {},
   "outputs": [
    {
     "name": "stdout",
     "output_type": "stream",
     "text": [
      "data science\n",
      "data science\n"
     ]
    }
   ],
   "source": [
    "#Lets see what happens when variable is private. Can we override it in runtime? Ans: No\n",
    "class ineuron:\n",
    "    def __init__(self):\n",
    "        self.__students1 = \"data science\"\n",
    "\n",
    "    def students(self):\n",
    "        print(self.__students1)\n",
    "\n",
    "i1 = ineuron()\n",
    "i1.students() \n",
    "i1.__students1 = \"big data\"\n",
    "i1.students()  #No error but overriding didnt happen. Still data science is being printed"
   ]
  },
  {
   "cell_type": "code",
   "execution_count": 21,
   "id": "e6e46b8f",
   "metadata": {},
   "outputs": [
    {
     "name": "stdout",
     "output_type": "stream",
     "text": [
      "data science\n",
      "data science\n"
     ]
    }
   ],
   "source": [
    "#Lets see what happens when variable is private. Can we change the variable value inside the class method? Ans: Yes\n",
    "class ineuron:\n",
    "    def __init__(self):\n",
    "        self.__students1 = \"data science\"\n",
    "\n",
    "    def students(self):\n",
    "        print(self.__students1)\n",
    "\n",
    "    def student_change(self):\n",
    "        self.__students1 = \"Big data by me\"\n",
    "\n",
    "i1 = ineuron()\n",
    "i1.students() \n",
    "i1.students()  #big data by me is printed\n",
    "\n",
    "#If I have a private variable, in that case by the help of object I will not be able to reassign any values to the variable. \n",
    "#But we can change using a method inside the class"
   ]
  },
  {
   "cell_type": "code",
   "execution_count": 22,
   "id": "8b1c2f66",
   "metadata": {},
   "outputs": [
    {
     "name": "stdout",
     "output_type": "stream",
     "text": [
      "anulipsa\n"
     ]
    }
   ],
   "source": [
    "#Lets see what happens when variable is private. Can we change the variable value inside the class method in runtime? Ans: Yes\n",
    "class ineuron:\n",
    "    def __init__(self):\n",
    "        self.__students1 = \"data science\"\n",
    "\n",
    "    def students(self):\n",
    "        print(self.__students1)\n",
    "\n",
    "    def student_change(self,new_value): #Setter function: We set the value using the function\n",
    "        self.__students1 = new_value\n",
    "\n",
    "i1 = ineuron()\n",
    "i1.student_change('anulipsa') \n",
    "i1.students() "
   ]
  },
  {
   "cell_type": "code",
   "execution_count": 23,
   "id": "c4a4073d",
   "metadata": {},
   "outputs": [
    {
     "name": "stdout",
     "output_type": "stream",
     "text": [
      "7\n",
      "anulipsabisoyi\n"
     ]
    }
   ],
   "source": [
    "#Concept of Polymorphism: Polymorphism means the same function name (but different signatures) being used for different types.\n",
    "class ineuron:\n",
    "    def student(self):\n",
    "        print(\"Print student details\")\n",
    "\n",
    "class class_type:\n",
    "    def class_for_students(self):\n",
    "        print(\"Print the class type of students\")\n",
    "\n",
    "def test(a,b):\n",
    "    return a + b\n",
    "\n",
    "print(test(3,4))  #7 output :Addition Operation\n",
    "print(test(\"anulipsa\",\"bisoyi\")) #output  : Same function but performing concatenation operation"
   ]
  },
  {
   "cell_type": "code",
   "execution_count": 24,
   "id": "c8593ac9",
   "metadata": {},
   "outputs": [
    {
     "name": "stdout",
     "output_type": "stream",
     "text": [
      "Print student details\n",
      "Print the class type of students\n"
     ]
    }
   ],
   "source": [
    "#Polymorphism Continued\n",
    "\n",
    "class ineuron:\n",
    "    def students(self):\n",
    "        print(\"Print student details\")\n",
    "\n",
    "class class_type:\n",
    "    def students(self):\n",
    "        print(\"Print the class type of students\")\n",
    "\n",
    "def ineuron_external(a): #Creating Function to achieve Polymorphism. Able to handle both ineuron class function and class_type function class. Behaving like a connection/bridge to all the classes\n",
    "    a.students()\n",
    "\n",
    "i = ineuron()\n",
    "j = class_type()\n",
    "ineuron_external(i) #Students function of 'ineuron' class will be called\n",
    "ineuron_external(j) #Students function of 'class_type' class will be called"
   ]
  },
  {
   "cell_type": "code",
   "execution_count": null,
   "id": "0e98fc51",
   "metadata": {},
   "outputs": [],
   "source": []
  }
 ],
 "metadata": {
  "kernelspec": {
   "display_name": "Python 3 (ipykernel)",
   "language": "python",
   "name": "python3"
  },
  "language_info": {
   "codemirror_mode": {
    "name": "ipython",
    "version": 3
   },
   "file_extension": ".py",
   "mimetype": "text/x-python",
   "name": "python",
   "nbconvert_exporter": "python",
   "pygments_lexer": "ipython3",
   "version": "3.9.7"
  }
 },
 "nbformat": 4,
 "nbformat_minor": 5
}
