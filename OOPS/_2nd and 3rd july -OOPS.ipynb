{
 "cells": [
  {
   "cell_type": "markdown",
   "id": "65fb4e68",
   "metadata": {},
   "source": [
    "## OOPS: \n",
    "Object Oriented Programming (Reusability of Code is the core idea)\n",
    "\n",
    "## Class in Programming: \n",
    "Virtualization/Classification of real time entity (Eg. Car: We will get idea about it but not exact specification like which type of car). Helps us in modular coding\n",
    "\n",
    "## Why we have class?->\n",
    "When we are trying to build something, we have many components (reading file, operations in db etc.). To maintain the entire module, we need classes so that a new person can make new changes in a structured format for a particular component. So, in one class we will have file handling operations, in one class we will have database operations etc. This helps in reusability of code and also helps in maintaining the component.\n",
    "\n",
    "## Object in Programming: \n",
    "Real time entity which exists (Eg. Mercedes Benz S Class car: Exact Model which exists in real time) Instance of Class\n",
    "\n",
    "## Constructor: \n",
    "Defaul Method by which we can pass values/data to the classes\n",
    "\n",
    "## Other Concepts of OOPs: \n",
    "Inheritance, Polymorphism, Overriding, Overloading, Abstraction etc."
   ]
  },
  {
   "cell_type": "markdown",
   "id": "f9a9143d",
   "metadata": {},
   "source": [
    "## 3rd July"
   ]
  },
  {
   "cell_type": "code",
   "execution_count": 7,
   "id": "7b380916",
   "metadata": {},
   "outputs": [
    {
     "ename": "SyntaxError",
     "evalue": "invalid syntax (Temp/ipykernel_4988/242584850.py, line 1)",
     "output_type": "error",
     "traceback": [
      "\u001b[1;36m  File \u001b[1;32m\"C:\\Users\\ANULIP~1\\AppData\\Local\\Temp/ipykernel_4988/242584850.py\"\u001b[1;36m, line \u001b[1;32m1\u001b[0m\n\u001b[1;33m    By default, Variables in class are Public variables which means it can be accessed anywhere.\u001b[0m\n\u001b[1;37m       ^\u001b[0m\n\u001b[1;31mSyntaxError\u001b[0m\u001b[1;31m:\u001b[0m invalid syntax\n"
     ]
    }
   ],
   "source": [
    "#By default, Variables in class are Public variables which means it can be accessed anywhere."
   ]
  },
  {
   "cell_type": "code",
   "execution_count": 3,
   "id": "7b938a35",
   "metadata": {},
   "outputs": [
    {
     "name": "stdout",
     "output_type": "stream",
     "text": [
      "bisoyi\n"
     ]
    }
   ],
   "source": [
    "class Person:\n",
    "    def __init__(self,name,surname,yob) :\n",
    "        self.name1 = name\n",
    "        self.surname1 = surname\n",
    "        self.yob1 = yob\n",
    "\n",
    "anulipsa = Person(\"anulipsa\",\"bisoyi\",1995)\n",
    "print(anulipsa.surname1) #I will be able to access anywhere because it is public variable"
   ]
  },
  {
   "cell_type": "markdown",
   "id": "47734f19",
   "metadata": {},
   "source": [
    "Marking with underscore means Protected variable. In other languages such as Java, C++, they have reserved keywords PUBLIC, PROTECTED or PRIVATE. In Python, these keywords don't exist.\n",
    "\n",
    "Marking with double underscore means Private variable."
   ]
  },
  {
   "cell_type": "code",
   "execution_count": null,
   "id": "46f5e9e7",
   "metadata": {},
   "outputs": [],
   "source": []
  }
 ],
 "metadata": {
  "kernelspec": {
   "display_name": "Python 3 (ipykernel)",
   "language": "python",
   "name": "python3"
  },
  "language_info": {
   "codemirror_mode": {
    "name": "ipython",
    "version": 3
   },
   "file_extension": ".py",
   "mimetype": "text/x-python",
   "name": "python",
   "nbconvert_exporter": "python",
   "pygments_lexer": "ipython3",
   "version": "3.9.7"
  }
 },
 "nbformat": 4,
 "nbformat_minor": 5
}
