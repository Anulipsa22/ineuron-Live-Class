{
 "cells": [
  {
   "cell_type": "markdown",
   "id": "441e4ee5",
   "metadata": {},
   "source": [
    "## Dataset 1: Agent Performance Data from iNeuron (Real Dataset)\n",
    "\n",
    "## Dataset 2: Agent Login Report\n",
    "\n",
    "https://docs.google.com/spreadsheets/d/1z4EWsGxw0YBQ1-51xZDxYNlB3ngJzg4t/edit?usp=sharing&ouid=118282207943964605599&rtpof=true&sd=true\n",
    "\n",
    "https://docs.google.com/spreadsheets/d/1z2n8aeFF5GoohQ3KCZw8bKogezpO9l4k/edit?usp=sharing&ouid=118282207943964605599&rtpof=true&sd=true"
   ]
  },
  {
   "cell_type": "code",
   "execution_count": 6,
   "id": "2d5ed1d1",
   "metadata": {},
   "outputs": [
    {
     "name": "stderr",
     "output_type": "stream",
     "text": [
      "C:\\Users\\Anulipsa pc\\anaconda3\\lib\\site-packages\\openpyxl\\styles\\stylesheet.py:226: UserWarning: Workbook contains no default style, apply openpyxl's default\n",
      "  warn(\"Workbook contains no default style, apply openpyxl's default\")\n"
     ]
    },
    {
     "data": {
      "text/html": [
       "<div>\n",
       "<style scoped>\n",
       "    .dataframe tbody tr th:only-of-type {\n",
       "        vertical-align: middle;\n",
       "    }\n",
       "\n",
       "    .dataframe tbody tr th {\n",
       "        vertical-align: top;\n",
       "    }\n",
       "\n",
       "    .dataframe thead th {\n",
       "        text-align: right;\n",
       "    }\n",
       "</style>\n",
       "<table border=\"1\" class=\"dataframe\">\n",
       "  <thead>\n",
       "    <tr style=\"text-align: right;\">\n",
       "      <th></th>\n",
       "      <th>SL No</th>\n",
       "      <th>Date</th>\n",
       "      <th>Agent Name</th>\n",
       "      <th>Total Chats</th>\n",
       "      <th>Average Response Time</th>\n",
       "      <th>Average Resolution Time</th>\n",
       "      <th>Average Rating</th>\n",
       "      <th>Total Feedback</th>\n",
       "    </tr>\n",
       "  </thead>\n",
       "  <tbody>\n",
       "    <tr>\n",
       "      <th>0</th>\n",
       "      <td>1</td>\n",
       "      <td>2022-07-30</td>\n",
       "      <td>Prerna Singh</td>\n",
       "      <td>11</td>\n",
       "      <td>00:00:38</td>\n",
       "      <td>00:04:20</td>\n",
       "      <td>4.11</td>\n",
       "      <td>9</td>\n",
       "    </tr>\n",
       "    <tr>\n",
       "      <th>1</th>\n",
       "      <td>2</td>\n",
       "      <td>2022-07-30</td>\n",
       "      <td>Nandani Gupta</td>\n",
       "      <td>11</td>\n",
       "      <td>00:01:15</td>\n",
       "      <td>00:28:25</td>\n",
       "      <td>3.14</td>\n",
       "      <td>7</td>\n",
       "    </tr>\n",
       "    <tr>\n",
       "      <th>2</th>\n",
       "      <td>3</td>\n",
       "      <td>2022-07-30</td>\n",
       "      <td>Ameya Jain</td>\n",
       "      <td>14</td>\n",
       "      <td>00:00:30</td>\n",
       "      <td>00:11:36</td>\n",
       "      <td>4.55</td>\n",
       "      <td>11</td>\n",
       "    </tr>\n",
       "    <tr>\n",
       "      <th>3</th>\n",
       "      <td>4</td>\n",
       "      <td>2022-07-30</td>\n",
       "      <td>Mahesh Sarade</td>\n",
       "      <td>14</td>\n",
       "      <td>00:01:04</td>\n",
       "      <td>00:15:46</td>\n",
       "      <td>4.71</td>\n",
       "      <td>7</td>\n",
       "    </tr>\n",
       "    <tr>\n",
       "      <th>4</th>\n",
       "      <td>5</td>\n",
       "      <td>2022-07-30</td>\n",
       "      <td>Swati</td>\n",
       "      <td>14</td>\n",
       "      <td>00:01:11</td>\n",
       "      <td>00:16:33</td>\n",
       "      <td>3.67</td>\n",
       "      <td>6</td>\n",
       "    </tr>\n",
       "  </tbody>\n",
       "</table>\n",
       "</div>"
      ],
      "text/plain": [
       "   SL No        Date     Agent Name  Total Chats Average Response Time  \\\n",
       "0      1  2022-07-30   Prerna Singh           11              00:00:38   \n",
       "1      2  2022-07-30  Nandani Gupta           11              00:01:15   \n",
       "2      3  2022-07-30     Ameya Jain           14              00:00:30   \n",
       "3      4  2022-07-30  Mahesh Sarade           14              00:01:04   \n",
       "4      5  2022-07-30         Swati            14              00:01:11   \n",
       "\n",
       "  Average Resolution Time  Average Rating  Total Feedback  \n",
       "0                00:04:20            4.11               9  \n",
       "1                00:28:25            3.14               7  \n",
       "2                00:11:36            4.55              11  \n",
       "3                00:15:46            4.71               7  \n",
       "4                00:16:33            3.67               6  "
      ]
     },
     "execution_count": 6,
     "metadata": {},
     "output_type": "execute_result"
    }
   ],
   "source": [
    "import pandas as pd\n",
    "df = pd.read_excel('c:\\\\Users\\\\Anulipsa pc\\\\Downloads\\\\AgentPerformance.xlsx',skiprows=1)\n",
    "df.head()"
   ]
  },
  {
   "cell_type": "code",
   "execution_count": 7,
   "id": "34d85c4d",
   "metadata": {},
   "outputs": [
    {
     "data": {
      "text/plain": [
       "SL No                        int64\n",
       "Date                        object\n",
       "Agent Name                  object\n",
       "Total Chats                  int64\n",
       "Average Response Time       object\n",
       "Average Resolution Time     object\n",
       "Average Rating             float64\n",
       "Total Feedback               int64\n",
       "dtype: object"
      ]
     },
     "execution_count": 7,
     "metadata": {},
     "output_type": "execute_result"
    }
   ],
   "source": [
    "df.dtypes"
   ]
  },
  {
   "cell_type": "markdown",
   "id": "c0ff686e",
   "metadata": {},
   "source": [
    "## Q1 .Find out there avarage rating on weekly basis keep this in a mind that they take two days of leave"
   ]
  },
  {
   "cell_type": "code",
   "execution_count": 8,
   "id": "3f8968a5",
   "metadata": {},
   "outputs": [],
   "source": [
    "df['date']=pd.to_datetime(df['Date'])"
   ]
  },
  {
   "cell_type": "code",
   "execution_count": 9,
   "id": "0d18d240",
   "metadata": {},
   "outputs": [
    {
     "data": {
      "text/html": [
       "<div>\n",
       "<style scoped>\n",
       "    .dataframe tbody tr th:only-of-type {\n",
       "        vertical-align: middle;\n",
       "    }\n",
       "\n",
       "    .dataframe tbody tr th {\n",
       "        vertical-align: top;\n",
       "    }\n",
       "\n",
       "    .dataframe thead th {\n",
       "        text-align: right;\n",
       "    }\n",
       "</style>\n",
       "<table border=\"1\" class=\"dataframe\">\n",
       "  <thead>\n",
       "    <tr style=\"text-align: right;\">\n",
       "      <th></th>\n",
       "      <th>SL No</th>\n",
       "      <th>Date</th>\n",
       "      <th>Agent Name</th>\n",
       "      <th>Total Chats</th>\n",
       "      <th>Average Response Time</th>\n",
       "      <th>Average Resolution Time</th>\n",
       "      <th>Average Rating</th>\n",
       "      <th>Total Feedback</th>\n",
       "      <th>date</th>\n",
       "    </tr>\n",
       "  </thead>\n",
       "  <tbody>\n",
       "    <tr>\n",
       "      <th>0</th>\n",
       "      <td>1</td>\n",
       "      <td>2022-07-30</td>\n",
       "      <td>Prerna Singh</td>\n",
       "      <td>11</td>\n",
       "      <td>00:00:38</td>\n",
       "      <td>00:04:20</td>\n",
       "      <td>4.11</td>\n",
       "      <td>9</td>\n",
       "      <td>2022-07-30</td>\n",
       "    </tr>\n",
       "    <tr>\n",
       "      <th>1</th>\n",
       "      <td>2</td>\n",
       "      <td>2022-07-30</td>\n",
       "      <td>Nandani Gupta</td>\n",
       "      <td>11</td>\n",
       "      <td>00:01:15</td>\n",
       "      <td>00:28:25</td>\n",
       "      <td>3.14</td>\n",
       "      <td>7</td>\n",
       "      <td>2022-07-30</td>\n",
       "    </tr>\n",
       "  </tbody>\n",
       "</table>\n",
       "</div>"
      ],
      "text/plain": [
       "   SL No        Date     Agent Name  Total Chats Average Response Time  \\\n",
       "0      1  2022-07-30   Prerna Singh           11              00:00:38   \n",
       "1      2  2022-07-30  Nandani Gupta           11              00:01:15   \n",
       "\n",
       "  Average Resolution Time  Average Rating  Total Feedback       date  \n",
       "0                00:04:20            4.11               9 2022-07-30  \n",
       "1                00:28:25            3.14               7 2022-07-30  "
      ]
     },
     "execution_count": 9,
     "metadata": {},
     "output_type": "execute_result"
    }
   ],
   "source": [
    "df.head(2)"
   ]
  },
  {
   "cell_type": "code",
   "execution_count": 10,
   "id": "8a79d512",
   "metadata": {},
   "outputs": [],
   "source": [
    "df['date_week']=df['date'].dt.isocalendar().week"
   ]
  },
  {
   "cell_type": "code",
   "execution_count": 11,
   "id": "e249839e",
   "metadata": {},
   "outputs": [],
   "source": [
    "df['date_days']=df['date'].dt.day"
   ]
  },
  {
   "cell_type": "code",
   "execution_count": 12,
   "id": "56203c0e",
   "metadata": {},
   "outputs": [],
   "source": [
    "df_mean=df.groupby(['Agent Name','date_week'])['Average Rating'].mean().to_frame()"
   ]
  },
  {
   "cell_type": "code",
   "execution_count": 13,
   "id": "9f079e9c",
   "metadata": {},
   "outputs": [
    {
     "data": {
      "text/html": [
       "<div>\n",
       "<style scoped>\n",
       "    .dataframe tbody tr th:only-of-type {\n",
       "        vertical-align: middle;\n",
       "    }\n",
       "\n",
       "    .dataframe tbody tr th {\n",
       "        vertical-align: top;\n",
       "    }\n",
       "\n",
       "    .dataframe thead th {\n",
       "        text-align: right;\n",
       "    }\n",
       "</style>\n",
       "<table border=\"1\" class=\"dataframe\">\n",
       "  <thead>\n",
       "    <tr style=\"text-align: right;\">\n",
       "      <th></th>\n",
       "      <th></th>\n",
       "      <th>Average Rating</th>\n",
       "    </tr>\n",
       "    <tr>\n",
       "      <th>Agent Name</th>\n",
       "      <th>date_week</th>\n",
       "      <th></th>\n",
       "    </tr>\n",
       "  </thead>\n",
       "  <tbody>\n",
       "    <tr>\n",
       "      <th rowspan=\"5\" valign=\"top\">Abhishek</th>\n",
       "      <th>26</th>\n",
       "      <td>0.000000</td>\n",
       "    </tr>\n",
       "    <tr>\n",
       "      <th>27</th>\n",
       "      <td>0.000000</td>\n",
       "    </tr>\n",
       "    <tr>\n",
       "      <th>28</th>\n",
       "      <td>0.000000</td>\n",
       "    </tr>\n",
       "    <tr>\n",
       "      <th>29</th>\n",
       "      <td>0.000000</td>\n",
       "    </tr>\n",
       "    <tr>\n",
       "      <th>30</th>\n",
       "      <td>0.000000</td>\n",
       "    </tr>\n",
       "    <tr>\n",
       "      <th>...</th>\n",
       "      <th>...</th>\n",
       "      <td>...</td>\n",
       "    </tr>\n",
       "    <tr>\n",
       "      <th rowspan=\"5\" valign=\"top\">Zeeshan</th>\n",
       "      <th>26</th>\n",
       "      <td>0.000000</td>\n",
       "    </tr>\n",
       "    <tr>\n",
       "      <th>27</th>\n",
       "      <td>1.307143</td>\n",
       "    </tr>\n",
       "    <tr>\n",
       "      <th>28</th>\n",
       "      <td>2.948571</td>\n",
       "    </tr>\n",
       "    <tr>\n",
       "      <th>29</th>\n",
       "      <td>3.180000</td>\n",
       "    </tr>\n",
       "    <tr>\n",
       "      <th>30</th>\n",
       "      <td>2.760000</td>\n",
       "    </tr>\n",
       "  </tbody>\n",
       "</table>\n",
       "<p>350 rows × 1 columns</p>\n",
       "</div>"
      ],
      "text/plain": [
       "                      Average Rating\n",
       "Agent Name date_week                \n",
       "Abhishek   26               0.000000\n",
       "           27               0.000000\n",
       "           28               0.000000\n",
       "           29               0.000000\n",
       "           30               0.000000\n",
       "...                              ...\n",
       "Zeeshan    26               0.000000\n",
       "           27               1.307143\n",
       "           28               2.948571\n",
       "           29               3.180000\n",
       "           30               2.760000\n",
       "\n",
       "[350 rows x 1 columns]"
      ]
     },
     "execution_count": 13,
     "metadata": {},
     "output_type": "execute_result"
    }
   ],
   "source": [
    "df_mean"
   ]
  },
  {
   "cell_type": "markdown",
   "id": "c33012c4",
   "metadata": {},
   "source": [
    "## Q2 .Total working days for each agents"
   ]
  },
  {
   "cell_type": "code",
   "execution_count": 14,
   "id": "fcf53ecd",
   "metadata": {},
   "outputs": [
    {
     "data": {
      "text/plain": [
       "Agent Name\n",
       "Abhishek         30\n",
       "Aditya           30\n",
       "Aditya Shinde    30\n",
       "Aditya_iot       30\n",
       "Amersh           30\n",
       "                 ..\n",
       "Uday Mishra      30\n",
       "Vasanth P        30\n",
       "Vivek            30\n",
       "Wasim            30\n",
       "Zeeshan          30\n",
       "Name: date_days, Length: 70, dtype: int64"
      ]
     },
     "execution_count": 14,
     "metadata": {},
     "output_type": "execute_result"
    }
   ],
   "source": [
    "df.groupby('Agent Name')['date_days'].count()"
   ]
  },
  {
   "cell_type": "markdown",
   "id": "a99a6781",
   "metadata": {},
   "source": [
    "## Q3. Total query that you have taken"
   ]
  },
  {
   "cell_type": "code",
   "execution_count": 15,
   "id": "a2a69246",
   "metadata": {},
   "outputs": [
    {
     "data": {
      "text/plain": [
       "Agent Name\n",
       "Abhishek           0\n",
       "Aditya             0\n",
       "Aditya Shinde    277\n",
       "Aditya_iot       231\n",
       "Amersh             0\n",
       "                ... \n",
       "Uday Mishra        0\n",
       "Vasanth P          0\n",
       "Vivek             44\n",
       "Wasim            433\n",
       "Zeeshan          542\n",
       "Name: Total Chats, Length: 70, dtype: int64"
      ]
     },
     "execution_count": 15,
     "metadata": {},
     "output_type": "execute_result"
    }
   ],
   "source": [
    "df.groupby('Agent Name')['Total Chats'].sum()"
   ]
  },
  {
   "cell_type": "markdown",
   "id": "6b2a7860",
   "metadata": {},
   "source": [
    "## Q4. Total Feedback that you have received"
   ]
  },
  {
   "cell_type": "code",
   "execution_count": 16,
   "id": "93871743",
   "metadata": {},
   "outputs": [
    {
     "data": {
      "text/plain": [
       "Agent Name\n",
       "Abhishek           0\n",
       "Aditya             0\n",
       "Aditya Shinde    153\n",
       "Aditya_iot       131\n",
       "Amersh             0\n",
       "                ... \n",
       "Uday Mishra        0\n",
       "Vasanth P          0\n",
       "Vivek             20\n",
       "Wasim            284\n",
       "Zeeshan          335\n",
       "Name: Total Feedback, Length: 70, dtype: int64"
      ]
     },
     "execution_count": 16,
     "metadata": {},
     "output_type": "execute_result"
    }
   ],
   "source": [
    "df.groupby('Agent Name')['Total Feedback'].sum()"
   ]
  },
  {
   "cell_type": "markdown",
   "id": "f12ac4d2",
   "metadata": {},
   "source": [
    "## Q5. Agent name who have average rating between 3.5 to 4"
   ]
  },
  {
   "cell_type": "code",
   "execution_count": 17,
   "id": "c94cfa3e",
   "metadata": {},
   "outputs": [
    {
     "data": {
      "text/plain": [
       "4                    Swati \n",
       "10             Manjunatha A\n",
       "73      Boktiar Ahmed Bappy\n",
       "76            Prateek _iot \n",
       "78            Nandani Gupta\n",
       "               ...         \n",
       "1941         Jawala Prakash\n",
       "2018          Sanjeev Kumar\n",
       "2021          Aditya Shinde\n",
       "2023       Deepranjan Gupta\n",
       "2097          Sanjeev Kumar\n",
       "Name: Agent Name, Length: 111, dtype: object"
      ]
     },
     "execution_count": 17,
     "metadata": {},
     "output_type": "execute_result"
    }
   ],
   "source": [
    "df[(df['Average Rating']>3.5) & (df['Average Rating']<=4)]['Agent Name']"
   ]
  },
  {
   "cell_type": "markdown",
   "id": "b2d9946c",
   "metadata": {},
   "source": [
    "## Q6 . Agent name who have rating lesss then 3.5"
   ]
  },
  {
   "cell_type": "code",
   "execution_count": 18,
   "id": "172bffbb",
   "metadata": {},
   "outputs": [
    {
     "data": {
      "text/plain": [
       "1            Nandani Gupta\n",
       "19        Hitesh Choudhary\n",
       "20              Sanjeevan \n",
       "21                Anirudh \n",
       "22        Shiva Srivastava\n",
       "               ...        \n",
       "2155     Sowmiya Sivakumar\n",
       "2156               Nitin M\n",
       "2157                Vivek \n",
       "2158         Ayushi Mishra\n",
       "2159    Chaitra K Hiremath\n",
       "Name: Agent Name, Length: 1474, dtype: object"
      ]
     },
     "execution_count": 18,
     "metadata": {},
     "output_type": "execute_result"
    }
   ],
   "source": [
    "df[(df['Average Rating']<3.5)]['Agent Name']"
   ]
  },
  {
   "cell_type": "markdown",
   "id": "7754f94f",
   "metadata": {},
   "source": [
    "## Q7 . Agent name who have rating more then 4.5"
   ]
  },
  {
   "cell_type": "code",
   "execution_count": 19,
   "id": "77f5d643",
   "metadata": {},
   "outputs": [
    {
     "data": {
      "text/plain": [
       "2               Ameya Jain\n",
       "3            Mahesh Sarade\n",
       "5                  Mukesh \n",
       "6          Saikumarreddy N\n",
       "7            Sanjeev Kumar\n",
       "               ...        \n",
       "2100        Shubham Sharma\n",
       "2101         Jaydeep Dixit\n",
       "2102    Shivananda Sonwane\n",
       "2103        Khushboo Priya\n",
       "2104       Hrisikesh Neogi\n",
       "Name: Agent Name, Length: 307, dtype: object"
      ]
     },
     "execution_count": 19,
     "metadata": {},
     "output_type": "execute_result"
    }
   ],
   "source": [
    "df[(df['Average Rating']>4.5)]['Agent Name']"
   ]
  },
  {
   "cell_type": "markdown",
   "id": "fc5aa172",
   "metadata": {},
   "source": [
    "## Q8 . How many feedaback agents have received more then 4.5 average"
   ]
  },
  {
   "cell_type": "code",
   "execution_count": 20,
   "id": "1e349baa",
   "metadata": {},
   "outputs": [
    {
     "data": {
      "text/plain": [
       "Agent Name\n",
       "Abhishek         False\n",
       "Aditya           False\n",
       "Aditya Shinde     True\n",
       "Aditya_iot       False\n",
       "Amersh           False\n",
       "                 ...  \n",
       "Uday Mishra      False\n",
       "Vasanth P        False\n",
       "Vivek            False\n",
       "Wasim             True\n",
       "Zeeshan           True\n",
       "Name: Total Feedback, Length: 70, dtype: bool"
      ]
     },
     "execution_count": 20,
     "metadata": {},
     "output_type": "execute_result"
    }
   ],
   "source": [
    "df.groupby('Agent Name')['Total Feedback'].mean()>4.5"
   ]
  },
  {
   "cell_type": "markdown",
   "id": "6f61dde5",
   "metadata": {},
   "source": [
    "## Q9 . Average weekly response time for each agent"
   ]
  },
  {
   "cell_type": "code",
   "execution_count": 21,
   "id": "9e601eb6",
   "metadata": {},
   "outputs": [],
   "source": [
    "def get_seconds(time_str):\n",
    "    #print('Time in hh:mm:ss:', time_str)\n",
    "    # split in hh, mm, ss\n",
    "    hh, mm, ss = time_str.split(':')\n",
    "    return int(hh) * 3600 + int(mm) * 60 + int(ss)\n",
    "    "
   ]
  },
  {
   "cell_type": "code",
   "execution_count": 22,
   "id": "11e6cedf",
   "metadata": {},
   "outputs": [],
   "source": [
    "avg_response_sec=[]\n",
    "for t in df['Average Response Time']:\n",
    "    avg_response_sec.append(get_seconds(t))\n",
    "avg_response_sec\n",
    "df['avg_response_sec'] = avg_response_sec"
   ]
  },
  {
   "cell_type": "code",
   "execution_count": 23,
   "id": "41f0fe7f",
   "metadata": {},
   "outputs": [
    {
     "data": {
      "text/html": [
       "<div>\n",
       "<style scoped>\n",
       "    .dataframe tbody tr th:only-of-type {\n",
       "        vertical-align: middle;\n",
       "    }\n",
       "\n",
       "    .dataframe tbody tr th {\n",
       "        vertical-align: top;\n",
       "    }\n",
       "\n",
       "    .dataframe thead th {\n",
       "        text-align: right;\n",
       "    }\n",
       "</style>\n",
       "<table border=\"1\" class=\"dataframe\">\n",
       "  <thead>\n",
       "    <tr style=\"text-align: right;\">\n",
       "      <th></th>\n",
       "      <th>SL No</th>\n",
       "      <th>Date</th>\n",
       "      <th>Agent Name</th>\n",
       "      <th>Total Chats</th>\n",
       "      <th>Average Response Time</th>\n",
       "      <th>Average Resolution Time</th>\n",
       "      <th>Average Rating</th>\n",
       "      <th>Total Feedback</th>\n",
       "      <th>date</th>\n",
       "      <th>date_week</th>\n",
       "      <th>date_days</th>\n",
       "      <th>avg_response_sec</th>\n",
       "    </tr>\n",
       "  </thead>\n",
       "  <tbody>\n",
       "    <tr>\n",
       "      <th>0</th>\n",
       "      <td>1</td>\n",
       "      <td>2022-07-30</td>\n",
       "      <td>Prerna Singh</td>\n",
       "      <td>11</td>\n",
       "      <td>00:00:38</td>\n",
       "      <td>00:04:20</td>\n",
       "      <td>4.11</td>\n",
       "      <td>9</td>\n",
       "      <td>2022-07-30</td>\n",
       "      <td>30</td>\n",
       "      <td>30</td>\n",
       "      <td>38</td>\n",
       "    </tr>\n",
       "    <tr>\n",
       "      <th>1</th>\n",
       "      <td>2</td>\n",
       "      <td>2022-07-30</td>\n",
       "      <td>Nandani Gupta</td>\n",
       "      <td>11</td>\n",
       "      <td>00:01:15</td>\n",
       "      <td>00:28:25</td>\n",
       "      <td>3.14</td>\n",
       "      <td>7</td>\n",
       "      <td>2022-07-30</td>\n",
       "      <td>30</td>\n",
       "      <td>30</td>\n",
       "      <td>75</td>\n",
       "    </tr>\n",
       "    <tr>\n",
       "      <th>2</th>\n",
       "      <td>3</td>\n",
       "      <td>2022-07-30</td>\n",
       "      <td>Ameya Jain</td>\n",
       "      <td>14</td>\n",
       "      <td>00:00:30</td>\n",
       "      <td>00:11:36</td>\n",
       "      <td>4.55</td>\n",
       "      <td>11</td>\n",
       "      <td>2022-07-30</td>\n",
       "      <td>30</td>\n",
       "      <td>30</td>\n",
       "      <td>30</td>\n",
       "    </tr>\n",
       "    <tr>\n",
       "      <th>3</th>\n",
       "      <td>4</td>\n",
       "      <td>2022-07-30</td>\n",
       "      <td>Mahesh Sarade</td>\n",
       "      <td>14</td>\n",
       "      <td>00:01:04</td>\n",
       "      <td>00:15:46</td>\n",
       "      <td>4.71</td>\n",
       "      <td>7</td>\n",
       "      <td>2022-07-30</td>\n",
       "      <td>30</td>\n",
       "      <td>30</td>\n",
       "      <td>64</td>\n",
       "    </tr>\n",
       "    <tr>\n",
       "      <th>4</th>\n",
       "      <td>5</td>\n",
       "      <td>2022-07-30</td>\n",
       "      <td>Swati</td>\n",
       "      <td>14</td>\n",
       "      <td>00:01:11</td>\n",
       "      <td>00:16:33</td>\n",
       "      <td>3.67</td>\n",
       "      <td>6</td>\n",
       "      <td>2022-07-30</td>\n",
       "      <td>30</td>\n",
       "      <td>30</td>\n",
       "      <td>71</td>\n",
       "    </tr>\n",
       "  </tbody>\n",
       "</table>\n",
       "</div>"
      ],
      "text/plain": [
       "   SL No        Date     Agent Name  Total Chats Average Response Time  \\\n",
       "0      1  2022-07-30   Prerna Singh           11              00:00:38   \n",
       "1      2  2022-07-30  Nandani Gupta           11              00:01:15   \n",
       "2      3  2022-07-30     Ameya Jain           14              00:00:30   \n",
       "3      4  2022-07-30  Mahesh Sarade           14              00:01:04   \n",
       "4      5  2022-07-30         Swati            14              00:01:11   \n",
       "\n",
       "  Average Resolution Time  Average Rating  Total Feedback       date  \\\n",
       "0                00:04:20            4.11               9 2022-07-30   \n",
       "1                00:28:25            3.14               7 2022-07-30   \n",
       "2                00:11:36            4.55              11 2022-07-30   \n",
       "3                00:15:46            4.71               7 2022-07-30   \n",
       "4                00:16:33            3.67               6 2022-07-30   \n",
       "\n",
       "   date_week  date_days  avg_response_sec  \n",
       "0         30         30                38  \n",
       "1         30         30                75  \n",
       "2         30         30                30  \n",
       "3         30         30                64  \n",
       "4         30         30                71  "
      ]
     },
     "execution_count": 23,
     "metadata": {},
     "output_type": "execute_result"
    }
   ],
   "source": [
    "df.head()"
   ]
  },
  {
   "cell_type": "code",
   "execution_count": 24,
   "id": "bdee65a3",
   "metadata": {},
   "outputs": [
    {
     "data": {
      "text/plain": [
       "Agent Name  date_week\n",
       "Abhishek    26             0.000000\n",
       "            27             0.000000\n",
       "            28             0.000000\n",
       "            29             0.000000\n",
       "            30             0.000000\n",
       "                            ...    \n",
       "Zeeshan     26             0.000000\n",
       "            27            23.571429\n",
       "            28           123.428571\n",
       "            29            62.857143\n",
       "            30            63.833333\n",
       "Name: avg_response_sec, Length: 350, dtype: float64"
      ]
     },
     "execution_count": 24,
     "metadata": {},
     "output_type": "execute_result"
    }
   ],
   "source": [
    "df.groupby(['Agent Name','date_week'])['avg_response_sec'].mean()"
   ]
  },
  {
   "cell_type": "markdown",
   "id": "7cbff277",
   "metadata": {},
   "source": [
    "## Q10 . Average weekely resolution time for each agents"
   ]
  },
  {
   "cell_type": "code",
   "execution_count": 25,
   "id": "20bbbd9b",
   "metadata": {},
   "outputs": [
    {
     "data": {
      "text/html": [
       "<div>\n",
       "<style scoped>\n",
       "    .dataframe tbody tr th:only-of-type {\n",
       "        vertical-align: middle;\n",
       "    }\n",
       "\n",
       "    .dataframe tbody tr th {\n",
       "        vertical-align: top;\n",
       "    }\n",
       "\n",
       "    .dataframe thead th {\n",
       "        text-align: right;\n",
       "    }\n",
       "</style>\n",
       "<table border=\"1\" class=\"dataframe\">\n",
       "  <thead>\n",
       "    <tr style=\"text-align: right;\">\n",
       "      <th></th>\n",
       "      <th>SL No</th>\n",
       "      <th>Date</th>\n",
       "      <th>Agent Name</th>\n",
       "      <th>Total Chats</th>\n",
       "      <th>Average Response Time</th>\n",
       "      <th>Average Resolution Time</th>\n",
       "      <th>Average Rating</th>\n",
       "      <th>Total Feedback</th>\n",
       "      <th>date</th>\n",
       "      <th>date_week</th>\n",
       "      <th>date_days</th>\n",
       "      <th>avg_response_sec</th>\n",
       "      <th>avg_resolution_time_sec</th>\n",
       "    </tr>\n",
       "  </thead>\n",
       "  <tbody>\n",
       "    <tr>\n",
       "      <th>0</th>\n",
       "      <td>1</td>\n",
       "      <td>2022-07-30</td>\n",
       "      <td>Prerna Singh</td>\n",
       "      <td>11</td>\n",
       "      <td>00:00:38</td>\n",
       "      <td>00:04:20</td>\n",
       "      <td>4.11</td>\n",
       "      <td>9</td>\n",
       "      <td>2022-07-30</td>\n",
       "      <td>30</td>\n",
       "      <td>30</td>\n",
       "      <td>38</td>\n",
       "      <td>260</td>\n",
       "    </tr>\n",
       "    <tr>\n",
       "      <th>1</th>\n",
       "      <td>2</td>\n",
       "      <td>2022-07-30</td>\n",
       "      <td>Nandani Gupta</td>\n",
       "      <td>11</td>\n",
       "      <td>00:01:15</td>\n",
       "      <td>00:28:25</td>\n",
       "      <td>3.14</td>\n",
       "      <td>7</td>\n",
       "      <td>2022-07-30</td>\n",
       "      <td>30</td>\n",
       "      <td>30</td>\n",
       "      <td>75</td>\n",
       "      <td>1705</td>\n",
       "    </tr>\n",
       "    <tr>\n",
       "      <th>2</th>\n",
       "      <td>3</td>\n",
       "      <td>2022-07-30</td>\n",
       "      <td>Ameya Jain</td>\n",
       "      <td>14</td>\n",
       "      <td>00:00:30</td>\n",
       "      <td>00:11:36</td>\n",
       "      <td>4.55</td>\n",
       "      <td>11</td>\n",
       "      <td>2022-07-30</td>\n",
       "      <td>30</td>\n",
       "      <td>30</td>\n",
       "      <td>30</td>\n",
       "      <td>696</td>\n",
       "    </tr>\n",
       "    <tr>\n",
       "      <th>3</th>\n",
       "      <td>4</td>\n",
       "      <td>2022-07-30</td>\n",
       "      <td>Mahesh Sarade</td>\n",
       "      <td>14</td>\n",
       "      <td>00:01:04</td>\n",
       "      <td>00:15:46</td>\n",
       "      <td>4.71</td>\n",
       "      <td>7</td>\n",
       "      <td>2022-07-30</td>\n",
       "      <td>30</td>\n",
       "      <td>30</td>\n",
       "      <td>64</td>\n",
       "      <td>946</td>\n",
       "    </tr>\n",
       "    <tr>\n",
       "      <th>4</th>\n",
       "      <td>5</td>\n",
       "      <td>2022-07-30</td>\n",
       "      <td>Swati</td>\n",
       "      <td>14</td>\n",
       "      <td>00:01:11</td>\n",
       "      <td>00:16:33</td>\n",
       "      <td>3.67</td>\n",
       "      <td>6</td>\n",
       "      <td>2022-07-30</td>\n",
       "      <td>30</td>\n",
       "      <td>30</td>\n",
       "      <td>71</td>\n",
       "      <td>993</td>\n",
       "    </tr>\n",
       "  </tbody>\n",
       "</table>\n",
       "</div>"
      ],
      "text/plain": [
       "   SL No        Date     Agent Name  Total Chats Average Response Time  \\\n",
       "0      1  2022-07-30   Prerna Singh           11              00:00:38   \n",
       "1      2  2022-07-30  Nandani Gupta           11              00:01:15   \n",
       "2      3  2022-07-30     Ameya Jain           14              00:00:30   \n",
       "3      4  2022-07-30  Mahesh Sarade           14              00:01:04   \n",
       "4      5  2022-07-30         Swati            14              00:01:11   \n",
       "\n",
       "  Average Resolution Time  Average Rating  Total Feedback       date  \\\n",
       "0                00:04:20            4.11               9 2022-07-30   \n",
       "1                00:28:25            3.14               7 2022-07-30   \n",
       "2                00:11:36            4.55              11 2022-07-30   \n",
       "3                00:15:46            4.71               7 2022-07-30   \n",
       "4                00:16:33            3.67               6 2022-07-30   \n",
       "\n",
       "   date_week  date_days  avg_response_sec  avg_resolution_time_sec  \n",
       "0         30         30                38                      260  \n",
       "1         30         30                75                     1705  \n",
       "2         30         30                30                      696  \n",
       "3         30         30                64                      946  \n",
       "4         30         30                71                      993  "
      ]
     },
     "execution_count": 25,
     "metadata": {},
     "output_type": "execute_result"
    }
   ],
   "source": [
    "avg_resolution_time_sec=[]\n",
    "for t in df['Average Resolution Time']:\n",
    "    avg_resolution_time_sec.append(get_seconds(t))\n",
    "avg_resolution_time_sec\n",
    "df['avg_resolution_time_sec'] = avg_resolution_time_sec\n",
    "df.head()"
   ]
  },
  {
   "cell_type": "code",
   "execution_count": 26,
   "id": "b8584c15",
   "metadata": {},
   "outputs": [
    {
     "data": {
      "text/plain": [
       "Agent Name  date_week\n",
       "Abhishek    26             0.000000\n",
       "            27             0.000000\n",
       "            28             0.000000\n",
       "            29             0.000000\n",
       "            30             0.000000\n",
       "                            ...    \n",
       "Zeeshan     26             0.000000\n",
       "            27           323.000000\n",
       "            28           984.285714\n",
       "            29           794.285714\n",
       "            30           773.500000\n",
       "Name: avg_resolution_time_sec, Length: 350, dtype: float64"
      ]
     },
     "execution_count": 26,
     "metadata": {},
     "output_type": "execute_result"
    }
   ],
   "source": [
    "df.groupby(['Agent Name','date_week'])['avg_resolution_time_sec'].mean()"
   ]
  },
  {
   "cell_type": "markdown",
   "id": "2ce47ee7",
   "metadata": {},
   "source": [
    "## Q11 . List of all agents name"
   ]
  },
  {
   "cell_type": "code",
   "execution_count": 27,
   "id": "56bb7df4",
   "metadata": {},
   "outputs": [
    {
     "data": {
      "text/plain": [
       "{'Abhishek ',\n",
       " 'Aditya ',\n",
       " 'Aditya Shinde',\n",
       " 'Aditya_iot ',\n",
       " 'Amersh ',\n",
       " 'Ameya Jain',\n",
       " 'Anirudh ',\n",
       " 'Ankit Sharma',\n",
       " 'Ankitjha ',\n",
       " 'Anurag Tiwari',\n",
       " 'Aravind ',\n",
       " 'Ashad Nasim',\n",
       " 'Ashish ',\n",
       " 'Ayushi Mishra',\n",
       " 'Bharath ',\n",
       " 'Boktiar Ahmed Bappy',\n",
       " 'Chaitra K Hiremath',\n",
       " 'Deepranjan Gupta',\n",
       " 'Dibyanshu ',\n",
       " 'Harikrishnan Shaji',\n",
       " 'Hitesh Choudhary',\n",
       " 'Hrisikesh Neogi',\n",
       " 'Hyder Abbas',\n",
       " 'Ineuron Intelligence ',\n",
       " 'Ishawant Kumar',\n",
       " 'Jawala Prakash',\n",
       " 'Jayant Kumar',\n",
       " 'Jaydeep Dixit',\n",
       " 'Khushboo Priya',\n",
       " 'Madhulika G',\n",
       " 'Mahak ',\n",
       " 'Mahesh Sarade',\n",
       " 'Maitry ',\n",
       " 'Maneesh ',\n",
       " 'Manjunatha A',\n",
       " 'Mithun S',\n",
       " 'Mukesh ',\n",
       " 'Mukesh Rao ',\n",
       " 'Muskan Garg',\n",
       " 'Nandani Gupta',\n",
       " 'Nishtha Jain',\n",
       " 'Nitin M',\n",
       " 'Prabir Kumar Satapathy',\n",
       " 'Prateek _iot ',\n",
       " 'Prerna Singh',\n",
       " 'Rishav Dash',\n",
       " 'Rohan ',\n",
       " 'Saif Khan',\n",
       " 'Saikumarreddy N',\n",
       " 'Samprit ',\n",
       " 'Sandipan Saha',\n",
       " 'Sanjeev Kumar',\n",
       " 'Sanjeevan ',\n",
       " 'Saurabh Shukla',\n",
       " 'Shiva Srivastava',\n",
       " 'Shivan K',\n",
       " 'Shivan_S ',\n",
       " 'Shivananda Sonwane',\n",
       " 'Shubham Sharma',\n",
       " 'Sowmiya Sivakumar',\n",
       " 'Spuri ',\n",
       " 'Sudhanshu Kumar',\n",
       " 'Suraj S Bilgi',\n",
       " 'Swati ',\n",
       " 'Tarun ',\n",
       " 'Uday Mishra',\n",
       " 'Vasanth P',\n",
       " 'Vivek ',\n",
       " 'Wasim ',\n",
       " 'Zeeshan '}"
      ]
     },
     "execution_count": 27,
     "metadata": {},
     "output_type": "execute_result"
    }
   ],
   "source": [
    "set(df['Agent Name'])"
   ]
  },
  {
   "cell_type": "markdown",
   "id": "1c26d9ba",
   "metadata": {},
   "source": [
    "## Q12 . percentage of chat on which they have received a feedback"
   ]
  },
  {
   "cell_type": "code",
   "execution_count": 28,
   "id": "9cf4e99d",
   "metadata": {},
   "outputs": [
    {
     "data": {
      "text/plain": [
       "Agent Name     Total Chats\n",
       "Abhishek       0               0\n",
       "Aditya         0               0\n",
       "Aditya Shinde  0               0\n",
       "               8               7\n",
       "               14              9\n",
       "                              ..\n",
       "Zeeshan        36             28\n",
       "               37             25\n",
       "               41             25\n",
       "               46             28\n",
       "               92             35\n",
       "Name: Total Feedback, Length: 638, dtype: int64"
      ]
     },
     "execution_count": 28,
     "metadata": {},
     "output_type": "execute_result"
    }
   ],
   "source": [
    "df.groupby(['Agent Name','Total Chats'])['Total Feedback'].sum()"
   ]
  },
  {
   "cell_type": "markdown",
   "id": "c0b9981e",
   "metadata": {},
   "source": [
    "## Q13 . Total contributation hour for each and every agents weekly basis"
   ]
  },
  {
   "cell_type": "code",
   "execution_count": 30,
   "id": "277386f9",
   "metadata": {},
   "outputs": [
    {
     "data": {
      "text/html": [
       "<div>\n",
       "<style scoped>\n",
       "    .dataframe tbody tr th:only-of-type {\n",
       "        vertical-align: middle;\n",
       "    }\n",
       "\n",
       "    .dataframe tbody tr th {\n",
       "        vertical-align: top;\n",
       "    }\n",
       "\n",
       "    .dataframe thead th {\n",
       "        text-align: right;\n",
       "    }\n",
       "</style>\n",
       "<table border=\"1\" class=\"dataframe\">\n",
       "  <thead>\n",
       "    <tr style=\"text-align: right;\">\n",
       "      <th></th>\n",
       "      <th>SL No</th>\n",
       "      <th>Agent</th>\n",
       "      <th>Date</th>\n",
       "      <th>Login Time</th>\n",
       "      <th>Logout Time</th>\n",
       "      <th>Duration</th>\n",
       "    </tr>\n",
       "  </thead>\n",
       "  <tbody>\n",
       "    <tr>\n",
       "      <th>0</th>\n",
       "      <td>1</td>\n",
       "      <td>Shivananda Sonwane</td>\n",
       "      <td>30-Jul-22</td>\n",
       "      <td>03:35:29 PM</td>\n",
       "      <td>05:39:39 PM</td>\n",
       "      <td>02:04:10</td>\n",
       "    </tr>\n",
       "    <tr>\n",
       "      <th>1</th>\n",
       "      <td>2</td>\n",
       "      <td>Khushboo Priya</td>\n",
       "      <td>30-Jul-22</td>\n",
       "      <td>03:06:59 PM</td>\n",
       "      <td>03:07:16 PM</td>\n",
       "      <td>00:00:17</td>\n",
       "    </tr>\n",
       "    <tr>\n",
       "      <th>2</th>\n",
       "      <td>3</td>\n",
       "      <td>Nandani Gupta</td>\n",
       "      <td>30-Jul-22</td>\n",
       "      <td>03:04:24 PM</td>\n",
       "      <td>05:31:07 PM</td>\n",
       "      <td>02:26:42</td>\n",
       "    </tr>\n",
       "    <tr>\n",
       "      <th>3</th>\n",
       "      <td>4</td>\n",
       "      <td>Hrisikesh Neogi</td>\n",
       "      <td>30-Jul-22</td>\n",
       "      <td>02:34:29 PM</td>\n",
       "      <td>03:19:35 PM</td>\n",
       "      <td>00:45:06</td>\n",
       "    </tr>\n",
       "    <tr>\n",
       "      <th>4</th>\n",
       "      <td>5</td>\n",
       "      <td>Mukesh</td>\n",
       "      <td>30-Jul-22</td>\n",
       "      <td>02:03:15 PM</td>\n",
       "      <td>03:11:52 PM</td>\n",
       "      <td>01:08:36</td>\n",
       "    </tr>\n",
       "  </tbody>\n",
       "</table>\n",
       "</div>"
      ],
      "text/plain": [
       "   SL No               Agent       Date   Login Time  Logout Time  Duration\n",
       "0      1  Shivananda Sonwane  30-Jul-22  03:35:29 PM  05:39:39 PM  02:04:10\n",
       "1      2      Khushboo Priya  30-Jul-22  03:06:59 PM  03:07:16 PM  00:00:17\n",
       "2      3       Nandani Gupta  30-Jul-22  03:04:24 PM  05:31:07 PM  02:26:42\n",
       "3      4     Hrisikesh Neogi  30-Jul-22  02:34:29 PM  03:19:35 PM  00:45:06\n",
       "4      5             Mukesh   30-Jul-22  02:03:15 PM  03:11:52 PM  01:08:36"
      ]
     },
     "execution_count": 30,
     "metadata": {},
     "output_type": "execute_result"
    }
   ],
   "source": [
    "df1 = pd.read_excel('d:\\\\DATA SET FILE\\\\Agent_Login_Report (4).xls',skiprows=2)\n",
    "df1.head()"
   ]
  },
  {
   "cell_type": "code",
   "execution_count": 31,
   "id": "3b3b210c",
   "metadata": {},
   "outputs": [
    {
     "data": {
      "text/plain": [
       "SL No           int64\n",
       "Agent          object\n",
       "Date           object\n",
       "Login Time     object\n",
       "Logout Time    object\n",
       "Duration       object\n",
       "dtype: object"
      ]
     },
     "execution_count": 31,
     "metadata": {},
     "output_type": "execute_result"
    }
   ],
   "source": [
    "df1.dtypes"
   ]
  },
  {
   "cell_type": "code",
   "execution_count": 32,
   "id": "241ebe70",
   "metadata": {},
   "outputs": [],
   "source": [
    "df1['Date'] = pd.to_datetime(df1['Date'])"
   ]
  },
  {
   "cell_type": "code",
   "execution_count": 33,
   "id": "fea0c511",
   "metadata": {},
   "outputs": [],
   "source": [
    "Total_duration_secs=[]\n",
    "for t in df1['Duration']:\n",
    "    Total_duration_secs.append(get_seconds(t))\n",
    "Total_duration_secs\n",
    "df1['Total_duration_secs'] = Total_duration_secs"
   ]
  },
  {
   "cell_type": "code",
   "execution_count": 34,
   "id": "e9826987",
   "metadata": {},
   "outputs": [
    {
     "data": {
      "text/plain": [
       "SL No                           int64\n",
       "Agent                          object\n",
       "Date                   datetime64[ns]\n",
       "Login Time                     object\n",
       "Logout Time                    object\n",
       "Duration                       object\n",
       "Total_duration_secs             int64\n",
       "dtype: object"
      ]
     },
     "execution_count": 34,
     "metadata": {},
     "output_type": "execute_result"
    }
   ],
   "source": [
    "df1.dtypes"
   ]
  },
  {
   "cell_type": "code",
   "execution_count": 35,
   "id": "44b2effd",
   "metadata": {},
   "outputs": [],
   "source": [
    "df1['hours']=df1['Total_duration_secs']//3600"
   ]
  },
  {
   "cell_type": "code",
   "execution_count": 39,
   "id": "5e5cbfa2",
   "metadata": {},
   "outputs": [
    {
     "data": {
      "text/plain": [
       "Agent\n",
       "Aditya Shinde               0.000000\n",
       "Aditya_iot                  1.333333\n",
       "Amersh                      0.500000\n",
       "Ameya Jain                  3.700000\n",
       "Ankitjha                    0.500000\n",
       "Anurag Tiwari               0.000000\n",
       "Aravind                     2.300000\n",
       "Ayushi Mishra               1.722222\n",
       "Bharath                     5.000000\n",
       "Boktiar Ahmed Bappy         1.764706\n",
       "Chaitra K Hiremath          2.384615\n",
       "Deepranjan Gupta            1.534483\n",
       "Dibyanshu                   0.100962\n",
       "Harikrishnan Shaji          1.913043\n",
       "Hrisikesh Neogi             1.054054\n",
       "Hyder Abbas                 0.000000\n",
       "Ineuron Intelligence        1.000000\n",
       "Ishawant Kumar              0.857143\n",
       "Jawala Prakash              2.562500\n",
       "Jaydeep Dixit               5.090909\n",
       "Khushboo Priya              2.055556\n",
       "Madhulika G                 2.352941\n",
       "Mahesh Sarade               0.916667\n",
       "Maitry                      6.000000\n",
       "Manjunatha A                4.750000\n",
       "Mithun S                    2.928571\n",
       "Mukesh                      2.333333\n",
       "Muskan Garg                 1.083333\n",
       "Nandani Gupta               3.181818\n",
       "Nishtha Jain                2.055556\n",
       "Nitin M                     0.000000\n",
       "Prabir Kumar Satapathy      0.923077\n",
       "Prateek _iot                0.823529\n",
       "Prerna Singh                2.222222\n",
       "Rishav Dash                 3.083333\n",
       "Saikumarreddy N             4.100000\n",
       "Sanjeev Kumar               2.050000\n",
       "Saurabh Shukla              0.250000\n",
       "Shiva Srivastava            0.733333\n",
       "Shivan K                    0.611111\n",
       "Shivananda Sonwane          3.066667\n",
       "Shubham Sharma              1.285714\n",
       "Sowmiya Sivakumar           1.500000\n",
       "Sudhanshu Kumar             3.727273\n",
       "Suraj S Bilgi               2.000000\n",
       "Swati                       4.800000\n",
       "Tarun                     514.000000\n",
       "Wasim                       2.150000\n",
       "Zeeshan                     4.700000\n",
       "Name: hours, dtype: float64"
      ]
     },
     "execution_count": 39,
     "metadata": {},
     "output_type": "execute_result"
    }
   ],
   "source": [
    "df1.groupby(['Agent'])['hours'].mean()"
   ]
  },
  {
   "cell_type": "markdown",
   "id": "7cecf1fa",
   "metadata": {},
   "source": [
    "## Q14. total percentage of active hour for a month"
   ]
  },
  {
   "cell_type": "code",
   "execution_count": 40,
   "id": "cb66951d",
   "metadata": {},
   "outputs": [
    {
     "data": {
      "text/html": [
       "<div>\n",
       "<style scoped>\n",
       "    .dataframe tbody tr th:only-of-type {\n",
       "        vertical-align: middle;\n",
       "    }\n",
       "\n",
       "    .dataframe tbody tr th {\n",
       "        vertical-align: top;\n",
       "    }\n",
       "\n",
       "    .dataframe thead th {\n",
       "        text-align: right;\n",
       "    }\n",
       "</style>\n",
       "<table border=\"1\" class=\"dataframe\">\n",
       "  <thead>\n",
       "    <tr style=\"text-align: right;\">\n",
       "      <th></th>\n",
       "      <th>SL No</th>\n",
       "      <th>Agent</th>\n",
       "      <th>Date</th>\n",
       "      <th>Login Time</th>\n",
       "      <th>Logout Time</th>\n",
       "      <th>Duration</th>\n",
       "      <th>Total_duration_secs</th>\n",
       "      <th>hours</th>\n",
       "      <th>month</th>\n",
       "    </tr>\n",
       "  </thead>\n",
       "  <tbody>\n",
       "    <tr>\n",
       "      <th>0</th>\n",
       "      <td>1</td>\n",
       "      <td>Shivananda Sonwane</td>\n",
       "      <td>2022-07-30</td>\n",
       "      <td>03:35:29 PM</td>\n",
       "      <td>05:39:39 PM</td>\n",
       "      <td>02:04:10</td>\n",
       "      <td>7450</td>\n",
       "      <td>2</td>\n",
       "      <td>7</td>\n",
       "    </tr>\n",
       "    <tr>\n",
       "      <th>1</th>\n",
       "      <td>2</td>\n",
       "      <td>Khushboo Priya</td>\n",
       "      <td>2022-07-30</td>\n",
       "      <td>03:06:59 PM</td>\n",
       "      <td>03:07:16 PM</td>\n",
       "      <td>00:00:17</td>\n",
       "      <td>17</td>\n",
       "      <td>0</td>\n",
       "      <td>7</td>\n",
       "    </tr>\n",
       "    <tr>\n",
       "      <th>2</th>\n",
       "      <td>3</td>\n",
       "      <td>Nandani Gupta</td>\n",
       "      <td>2022-07-30</td>\n",
       "      <td>03:04:24 PM</td>\n",
       "      <td>05:31:07 PM</td>\n",
       "      <td>02:26:42</td>\n",
       "      <td>8802</td>\n",
       "      <td>2</td>\n",
       "      <td>7</td>\n",
       "    </tr>\n",
       "    <tr>\n",
       "      <th>3</th>\n",
       "      <td>4</td>\n",
       "      <td>Hrisikesh Neogi</td>\n",
       "      <td>2022-07-30</td>\n",
       "      <td>02:34:29 PM</td>\n",
       "      <td>03:19:35 PM</td>\n",
       "      <td>00:45:06</td>\n",
       "      <td>2706</td>\n",
       "      <td>0</td>\n",
       "      <td>7</td>\n",
       "    </tr>\n",
       "    <tr>\n",
       "      <th>4</th>\n",
       "      <td>5</td>\n",
       "      <td>Mukesh</td>\n",
       "      <td>2022-07-30</td>\n",
       "      <td>02:03:15 PM</td>\n",
       "      <td>03:11:52 PM</td>\n",
       "      <td>01:08:36</td>\n",
       "      <td>4116</td>\n",
       "      <td>1</td>\n",
       "      <td>7</td>\n",
       "    </tr>\n",
       "    <tr>\n",
       "      <th>...</th>\n",
       "      <td>...</td>\n",
       "      <td>...</td>\n",
       "      <td>...</td>\n",
       "      <td>...</td>\n",
       "      <td>...</td>\n",
       "      <td>...</td>\n",
       "      <td>...</td>\n",
       "      <td>...</td>\n",
       "      <td>...</td>\n",
       "    </tr>\n",
       "    <tr>\n",
       "      <th>995</th>\n",
       "      <td>996</td>\n",
       "      <td>Manjunatha A</td>\n",
       "      <td>2022-07-20</td>\n",
       "      <td>09:03:51 AM</td>\n",
       "      <td>03:02:28 PM</td>\n",
       "      <td>05:58:37</td>\n",
       "      <td>21517</td>\n",
       "      <td>5</td>\n",
       "      <td>7</td>\n",
       "    </tr>\n",
       "    <tr>\n",
       "      <th>996</th>\n",
       "      <td>997</td>\n",
       "      <td>Bharath</td>\n",
       "      <td>2022-07-20</td>\n",
       "      <td>09:00:49 AM</td>\n",
       "      <td>03:01:32 PM</td>\n",
       "      <td>06:00:43</td>\n",
       "      <td>21643</td>\n",
       "      <td>6</td>\n",
       "      <td>7</td>\n",
       "    </tr>\n",
       "    <tr>\n",
       "      <th>997</th>\n",
       "      <td>998</td>\n",
       "      <td>Khushboo Priya</td>\n",
       "      <td>2022-07-20</td>\n",
       "      <td>08:59:20 AM</td>\n",
       "      <td>02:26:55 PM</td>\n",
       "      <td>05:27:34</td>\n",
       "      <td>19654</td>\n",
       "      <td>5</td>\n",
       "      <td>7</td>\n",
       "    </tr>\n",
       "    <tr>\n",
       "      <th>998</th>\n",
       "      <td>999</td>\n",
       "      <td>Nishtha Jain</td>\n",
       "      <td>2022-07-20</td>\n",
       "      <td>08:43:55 AM</td>\n",
       "      <td>02:00:33 PM</td>\n",
       "      <td>05:16:38</td>\n",
       "      <td>18998</td>\n",
       "      <td>5</td>\n",
       "      <td>7</td>\n",
       "    </tr>\n",
       "    <tr>\n",
       "      <th>999</th>\n",
       "      <td>1000</td>\n",
       "      <td>Tarun</td>\n",
       "      <td>2022-07-01</td>\n",
       "      <td>01:52:47 AM</td>\n",
       "      <td>12:01:07 PM</td>\n",
       "      <td>514:08:20</td>\n",
       "      <td>1850900</td>\n",
       "      <td>514</td>\n",
       "      <td>7</td>\n",
       "    </tr>\n",
       "  </tbody>\n",
       "</table>\n",
       "<p>1000 rows × 9 columns</p>\n",
       "</div>"
      ],
      "text/plain": [
       "     SL No               Agent       Date   Login Time  Logout Time  \\\n",
       "0        1  Shivananda Sonwane 2022-07-30  03:35:29 PM  05:39:39 PM   \n",
       "1        2      Khushboo Priya 2022-07-30  03:06:59 PM  03:07:16 PM   \n",
       "2        3       Nandani Gupta 2022-07-30  03:04:24 PM  05:31:07 PM   \n",
       "3        4     Hrisikesh Neogi 2022-07-30  02:34:29 PM  03:19:35 PM   \n",
       "4        5             Mukesh  2022-07-30  02:03:15 PM  03:11:52 PM   \n",
       "..     ...                 ...        ...          ...          ...   \n",
       "995    996        Manjunatha A 2022-07-20  09:03:51 AM  03:02:28 PM   \n",
       "996    997            Bharath  2022-07-20  09:00:49 AM  03:01:32 PM   \n",
       "997    998      Khushboo Priya 2022-07-20  08:59:20 AM  02:26:55 PM   \n",
       "998    999        Nishtha Jain 2022-07-20  08:43:55 AM  02:00:33 PM   \n",
       "999   1000              Tarun  2022-07-01  01:52:47 AM  12:01:07 PM   \n",
       "\n",
       "      Duration  Total_duration_secs  hours  month  \n",
       "0     02:04:10                 7450      2      7  \n",
       "1     00:00:17                   17      0      7  \n",
       "2     02:26:42                 8802      2      7  \n",
       "3     00:45:06                 2706      0      7  \n",
       "4     01:08:36                 4116      1      7  \n",
       "..         ...                  ...    ...    ...  \n",
       "995   05:58:37                21517      5      7  \n",
       "996   06:00:43                21643      6      7  \n",
       "997   05:27:34                19654      5      7  \n",
       "998   05:16:38                18998      5      7  \n",
       "999  514:08:20              1850900    514      7  \n",
       "\n",
       "[1000 rows x 9 columns]"
      ]
     },
     "execution_count": 40,
     "metadata": {},
     "output_type": "execute_result"
    }
   ],
   "source": [
    "df1['month'] = df1['Date'].dt.month\n",
    "df1"
   ]
  },
  {
   "cell_type": "code",
   "execution_count": 41,
   "id": "b1776cb5",
   "metadata": {},
   "outputs": [
    {
     "data": {
      "text/plain": [
       "0       0.105097\n",
       "1       0.000000\n",
       "2       0.105097\n",
       "3       0.000000\n",
       "4       0.052549\n",
       "         ...    \n",
       "995     0.262743\n",
       "996     0.315292\n",
       "997     0.262743\n",
       "998     0.262743\n",
       "999    27.009984\n",
       "Name: hours, Length: 1000, dtype: float64"
      ]
     },
     "execution_count": 41,
     "metadata": {},
     "output_type": "execute_result"
    }
   ],
   "source": [
    "100*df1['hours']/df1.groupby('month')['hours'].transform('sum')"
   ]
  },
  {
   "cell_type": "code",
   "execution_count": null,
   "id": "a51bb580",
   "metadata": {},
   "outputs": [],
   "source": []
  }
 ],
 "metadata": {
  "kernelspec": {
   "display_name": "Python 3 (ipykernel)",
   "language": "python",
   "name": "python3"
  },
  "language_info": {
   "codemirror_mode": {
    "name": "ipython",
    "version": 3
   },
   "file_extension": ".py",
   "mimetype": "text/x-python",
   "name": "python",
   "nbconvert_exporter": "python",
   "pygments_lexer": "ipython3",
   "version": "3.9.7"
  }
 },
 "nbformat": 4,
 "nbformat_minor": 5
}
