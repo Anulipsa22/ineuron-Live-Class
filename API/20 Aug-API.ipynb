{
 "cells": [
  {
   "cell_type": "markdown",
   "id": "a21849dc",
   "metadata": {},
   "source": [
    "## CLASS 26: APPLICATION PROGRAMMING INTERFACE (API): 20 AUGUST 2022\n",
    "API: Communication between Separate/Heterogenous Systems or Same/Homogeneous Systems\n",
    "\n",
    "Example: GPAY communication with HDFC Bank for Transactions. Suppose GPAY system designed using MERN Techstack (MongoDB, Express, React, Node) and HDFC Backend is designed using Java, then communication/interaction will be done easily using API.\n",
    "\n",
    "FLASK is more than suffcient for Data Science use-cases but if we want to learn web development, then Django is important.\n",
    "\n",
    "For API testing, we need to download and install POSTMAN\n",
    "\n",
    "The URL we used to run in POSTMAN is API:\n",
    "\n",
    "http://127.0.0.1:5000/abc (Accessing Python Function in Postman using POST)\n",
    "\n",
    "http://127.0.0.1:5000/abc1\n",
    "\n",
    "http://127.0.0.1:5000/abc2\n",
    "\n",
    "http://127.0.0.1:5000/abc3"
   ]
  },
  {
   "cell_type": "code",
   "execution_count": null,
   "id": "9d47d47f",
   "metadata": {},
   "outputs": [
    {
     "name": "stdout",
     "output_type": "stream",
     "text": [
      " * Serving Flask app \"__main__\" (lazy loading)\n",
      " * Environment: production\n",
      "\u001b[31m   WARNING: This is a development server. Do not use it in a production deployment.\u001b[0m\n",
      "\u001b[2m   Use a production WSGI server instead.\u001b[0m\n",
      " * Debug mode: off\n"
     ]
    },
    {
     "name": "stderr",
     "output_type": "stream",
     "text": [
      " * Running on http://127.0.0.1:5000/ (Press CTRL+C to quit)\n"
     ]
    }
   ],
   "source": [
    "from flask import Flask, request, jsonify\n",
    "\n",
    "app = Flask(__name__) #Creating object of Flask class\n",
    "\n",
    "#API Platform Independent: we use HTTP or HTTPS Protocol to reach out to respective systems\n",
    "#If I have to send some data, use GET(through URL/Browser) and POST(through body), @ is annotation (Behaving as decorator) meaning line after that call that function\n",
    "#If the function test1 is recieving data, then it will be through GET or POST method\n",
    "@app.route('/abc',methods=['GET','POST'])\n",
    "def test1():\n",
    "    if(request.method=='POST'):  #If from some other system person is sending data through POST\n",
    "        a = request.json['num1'] #We can use csv/xml and other formats\n",
    "        b = request.json['num2']\n",
    "        result = a+b\n",
    "        return jsonify((str(result)))\n",
    "\n",
    "@app.route('/abc1',methods=['GET','POST'])\n",
    "def test2():\n",
    "    if(request.method=='POST'):  #If from some other system person is sending data through POST\n",
    "        a = request.json['num1'] #We can use csv/xml and other formats\n",
    "        b = request.json['num2']\n",
    "        result = a*b\n",
    "        return jsonify((str(result)))\n",
    "\n",
    "@app.route('/abc2',methods=['GET','POST'])\n",
    "def test3():\n",
    "    if(request.method=='POST'):  #If from some other system person is sending data through POST\n",
    "        a = request.json['num1'] #We can use csv/xml and other formats\n",
    "        b = request.json['num2']\n",
    "        result = a**b\n",
    "        return jsonify((str(result)))\n",
    "\n",
    "@app.route('/abc3',methods=['GET','POST'])\n",
    "def test4():\n",
    "    if(request.method=='POST'):  #If from some other system person is sending data through POST\n",
    "        a = request.json['num1'] #We can use csv/xml and other formats\n",
    "        b = request.json['num2']\n",
    "        result = a-b\n",
    "        return jsonify((str(result)))\n",
    "\n",
    "if __name__ =='__main__': #Invoking Python Main Class\n",
    "    app.run()  #Exposing entire function: app.run() will invoke Line 3"
   ]
  },
  {
   "cell_type": "code",
   "execution_count": null,
   "id": "5bb270aa",
   "metadata": {},
   "outputs": [],
   "source": [
    "#Task\n",
    "1. Write a program to insert a record in sql table via api database\n",
    "2. Write a program to update a record via api\n",
    "3. Write a program to delete a record via api\n",
    "4. Write a program to fetch a record via api\n",
    "5. Do all the above questions you have to answer for mongo"
   ]
  }
 ],
 "metadata": {
  "kernelspec": {
   "display_name": "Python 3 (ipykernel)",
   "language": "python",
   "name": "python3"
  },
  "language_info": {
   "codemirror_mode": {
    "name": "ipython",
    "version": 3
   },
   "file_extension": ".py",
   "mimetype": "text/x-python",
   "name": "python",
   "nbconvert_exporter": "python",
   "pygments_lexer": "ipython3",
   "version": "3.9.7"
  }
 },
 "nbformat": 4,
 "nbformat_minor": 5
}
